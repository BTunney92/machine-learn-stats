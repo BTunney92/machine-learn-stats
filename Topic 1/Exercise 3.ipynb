{
 "cells": [
  {
   "cell_type": "markdown",
   "id": "ec8379f2",
   "metadata": {},
   "source": [
    "#### Exercise 3\n",
    "\n",
    "Take the code from the Examples section of the scipy stats documentation for independent samples t-tests, add it to your own notebook and add explain how it works using MarkDown cells and code comments. Improve it in any way you think it could be improved - [1] https://docs.scipy.org/doc/scipy/reference/generated/scipy.stats.ttest_ind.html\n",
    "\n",
    "A t-test is used to determine the whether a significant difference exists between the means of two groups. \n",
    "[2] https://www.geeksforgeeks.org/t-test/"
   ]
  },
  {
   "cell_type": "code",
   "execution_count": 1,
   "id": "ce253a44",
   "metadata": {},
   "outputs": [],
   "source": [
    "# Importing scipy package along with numpy for random number generator \n",
    "\n",
    "import numpy as np\n",
    "from scipy import stats\n",
    "\n",
    "rng = np.random.default_rng()"
   ]
  },
  {
   "cell_type": "markdown",
   "id": "8fa44aa1",
   "metadata": {},
   "source": [
    "The random variable samples are created using 'stats.norm.rvs' function. It uses loc/mean, scale/SD & size/sample size. Random_state=rng is generating the numbers within the sample size. These are random and will be different each time the code is run.\n",
    "\n",
    "stats.ttest_ind is called to run the t-test - comparing samples created and seeing if a significant difference occurs between the means. [1]"
   ]
  },
  {
   "cell_type": "code",
   "execution_count": 12,
   "id": "907b9477",
   "metadata": {},
   "outputs": [
    {
     "data": {
      "text/plain": [
       "Ttest_indResult(statistic=-1.1639402700480914, pvalue=0.24472639967752285)"
      ]
     },
     "execution_count": 12,
     "metadata": {},
     "output_type": "execute_result"
    }
   ],
   "source": [
    "rvs1 = stats.norm.rvs(loc=5, scale=10, size=500, random_state=rng)\n",
    "rvs2 = stats.norm.rvs(loc=5, scale=10, size=500, random_state=rng)\n",
    "stats.ttest_ind(rvs1, rvs2)\n",
    "\n"
   ]
  },
  {
   "cell_type": "markdown",
   "id": "af883cb5",
   "metadata": {},
   "source": [
    "stats.ttest_ind by default is making the assumption that the samples have equal population variances. The above test is not making that assumption and so includes 'equal_var=False'. [1]"
   ]
  },
  {
   "cell_type": "code",
   "execution_count": 13,
   "id": "68ed47b9",
   "metadata": {},
   "outputs": [
    {
     "data": {
      "text/plain": [
       "Ttest_indResult(statistic=-1.1639402700480914, pvalue=0.24472641287758196)"
      ]
     },
     "execution_count": 13,
     "metadata": {},
     "output_type": "execute_result"
    }
   ],
   "source": [
    "stats.ttest_ind(rvs1, rvs2, equal_var=False)"
   ]
  },
  {
   "cell_type": "markdown",
   "id": "8c1e6324",
   "metadata": {},
   "source": [
    "You can see a slight difference in the pvalue when run with the default equal variance and the 'false' parameter - Welch t-test.\n",
    "\n",
    "With the same parameters, the t-test and welch test should be the same but smaller sample sizes can throw this out. [3] https://www.statisticshowto.com/welchs-test-for-unequal-variances/\n",
    "\n",
    "If you increase the sample size, you can see the p values move closer."
   ]
  },
  {
   "cell_type": "markdown",
   "id": "6c3c9f67",
   "metadata": {},
   "source": [
    "RVS3 is run with a larger scale which shows how the t-test underestimates the p-value when SD differs."
   ]
  },
  {
   "cell_type": "code",
   "execution_count": 16,
   "id": "811e059f",
   "metadata": {},
   "outputs": [
    {
     "data": {
      "text/plain": [
       "Ttest_indResult(statistic=0.15567737761090908, pvalue=0.8763188113870719)"
      ]
     },
     "execution_count": 16,
     "metadata": {},
     "output_type": "execute_result"
    }
   ],
   "source": [
    "rvs3 = stats.norm.rvs(loc=5, scale=20, size=500, random_state=rng)\n",
    "\n",
    "stats.ttest_ind(rvs1, rvs3)\n"
   ]
  },
  {
   "cell_type": "code",
   "execution_count": 17,
   "id": "1101361d",
   "metadata": {},
   "outputs": [
    {
     "data": {
      "text/plain": [
       "Ttest_indResult(statistic=0.15567737761090908, pvalue=0.8763295859772651)"
      ]
     },
     "execution_count": 17,
     "metadata": {},
     "output_type": "execute_result"
    }
   ],
   "source": [
    "stats.ttest_ind(rvs1, rvs3, equal_var=False)"
   ]
  },
  {
   "cell_type": "markdown",
   "id": "75845bd4",
   "metadata": {},
   "source": [
    "The next sample is generated with a larger SD but a smaller sample size. With both the SD and sample size differences, we can now properly see the difference in the p values."
   ]
  },
  {
   "cell_type": "code",
   "execution_count": 18,
   "id": "59313f0f",
   "metadata": {},
   "outputs": [
    {
     "data": {
      "text/plain": [
       "Ttest_indResult(statistic=-2.4310376337489075, pvalue=0.015348475155358903)"
      ]
     },
     "execution_count": 18,
     "metadata": {},
     "output_type": "execute_result"
    }
   ],
   "source": [
    "rvs4 = stats.norm.rvs(loc=5, scale=20, size=100, random_state=rng)\n",
    "\n",
    "stats.ttest_ind(rvs1, rvs4)\n",
    "\n"
   ]
  },
  {
   "cell_type": "code",
   "execution_count": 19,
   "id": "3ea3b347",
   "metadata": {},
   "outputs": [
    {
     "data": {
      "text/plain": [
       "Ttest_indResult(statistic=-1.5951677342346835, pvalue=0.11356407678983951)"
      ]
     },
     "execution_count": 19,
     "metadata": {},
     "output_type": "execute_result"
    }
   ],
   "source": [
    "stats.ttest_ind(rvs1, rvs4, equal_var=False)"
   ]
  },
  {
   "cell_type": "markdown",
   "id": "c8ce42f3",
   "metadata": {},
   "source": [
    "The final sample is generated with all three variables changed."
   ]
  },
  {
   "cell_type": "code",
   "execution_count": 23,
   "id": "69abde64",
   "metadata": {},
   "outputs": [
    {
     "data": {
      "text/plain": [
       "Ttest_indResult(statistic=-3.4089463906097692, pvalue=0.0006960221559170291)"
      ]
     },
     "execution_count": 23,
     "metadata": {},
     "output_type": "execute_result"
    }
   ],
   "source": [
    "rvs5 = stats.norm.rvs(loc=8, scale=20, size=100, random_state=rng)\n",
    "\n",
    "stats.ttest_ind(rvs1, rvs5)"
   ]
  },
  {
   "cell_type": "markdown",
   "id": "c0746c85",
   "metadata": {},
   "source": [
    "As we can see below (as with sample 4), the p values are no longer equal (or near equal)."
   ]
  },
  {
   "cell_type": "code",
   "execution_count": 24,
   "id": "f8c509af",
   "metadata": {},
   "outputs": [
    {
     "data": {
      "text/plain": [
       "Ttest_indResult(statistic=-2.2549704196085285, pvalue=0.026122695169801133)"
      ]
     },
     "execution_count": 24,
     "metadata": {},
     "output_type": "execute_result"
    }
   ],
   "source": [
    "stats.ttest_ind(rvs1, rvs5, equal_var=False)"
   ]
  },
  {
   "cell_type": "markdown",
   "id": "b091a9d5",
   "metadata": {},
   "source": [
    "The 'permutations' parameter is now added. More permutations lead to more accruate results. [1]"
   ]
  },
  {
   "cell_type": "code",
   "execution_count": 25,
   "id": "f325fb42",
   "metadata": {},
   "outputs": [
    {
     "data": {
      "text/plain": [
       "Ttest_indResult(statistic=-3.4089463906097692, pvalue=0.0007)"
      ]
     },
     "execution_count": 25,
     "metadata": {},
     "output_type": "execute_result"
    }
   ],
   "source": [
    "stats.ttest_ind(rvs1, rvs5, permutations=10000, random_state=rng)"
   ]
  },
  {
   "cell_type": "code",
   "execution_count": null,
   "id": "8ec4a842",
   "metadata": {},
   "outputs": [],
   "source": []
  },
  {
   "cell_type": "code",
   "execution_count": null,
   "id": "dd5b0778",
   "metadata": {},
   "outputs": [],
   "source": []
  }
 ],
 "metadata": {
  "kernelspec": {
   "display_name": "Python 3 (ipykernel)",
   "language": "python",
   "name": "python3"
  },
  "language_info": {
   "codemirror_mode": {
    "name": "ipython",
    "version": 3
   },
   "file_extension": ".py",
   "mimetype": "text/x-python",
   "name": "python",
   "nbconvert_exporter": "python",
   "pygments_lexer": "ipython3",
   "version": "3.9.12"
  }
 },
 "nbformat": 4,
 "nbformat_minor": 5
}
