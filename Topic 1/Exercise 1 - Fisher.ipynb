{
 "cells": [
  {
   "cell_type": "markdown",
   "id": "5a23447e",
   "metadata": {},
   "source": [
    "### Fisher - Lady Tasting Tea"
   ]
  },
  {
   "cell_type": "markdown",
   "id": "10af27de",
   "metadata": {},
   "source": [
    "The original problem was to determine the probability of the lady correctly picking the 4 cups from 8 with milk in first, if it was through purely random selection. The probability is approx. 1.5 %\n"
   ]
  },
  {
   "cell_type": "markdown",
   "id": "588f4bb3",
   "metadata": {},
   "source": [
    "#### Exercise 1\n",
    "\n",
    "This exercise is to calculate the minimum number of cups of tea required to ensure the probability of randomly selecting the correct cups is less than or equal to 1%.\n"
   ]
  },
  {
   "cell_type": "markdown",
   "id": "d20a1b39",
   "metadata": {},
   "source": [
    "The following code is adapted from - https://stackoverflow.com/a/4941846"
   ]
  },
  {
   "cell_type": "code",
   "execution_count": 4,
   "id": "85f83bcc",
   "metadata": {},
   "outputs": [],
   "source": [
    "# Importing Math Module\n",
    "\n",
    "import math"
   ]
  },
  {
   "cell_type": "markdown",
   "id": "a3287396",
   "metadata": {},
   "source": [
    "If selecting 4 cups from 8 gives a 1.5% chance, then we need to increase the sample size to get a probability closer to 1%."
   ]
  },
  {
   "cell_type": "code",
   "execution_count": null,
   "id": "e2d53acc",
   "metadata": {},
   "outputs": [],
   "source": [
    "# Selecting 4 cups from 9 - number of possible combinations\n",
    "math.comb(9,4)"
   ]
  },
  {
   "cell_type": "code",
   "execution_count": null,
   "id": "85d72388",
   "metadata": {},
   "outputs": [],
   "source": [
    "# Probability of correctly selecting 4 from 9 -rounded to 2 places\n",
    "\n",
    "round(1/126*100, 2)\n"
   ]
  },
  {
   "cell_type": "markdown",
   "id": "e67a479b",
   "metadata": {},
   "source": [
    "From the above, we can see that increasing the sample size to 9 gives an approx. 0.79 % chance of randomly selecting the correct 4 cups. \n",
    "\n",
    "If we try 4 cups from 10, we can see the chances of selecting the correct cups further reduced."
   ]
  },
  {
   "cell_type": "code",
   "execution_count": null,
   "id": "4972f901",
   "metadata": {},
   "outputs": [],
   "source": [
    "round(1/math.comb(10,4)*100, 2)"
   ]
  },
  {
   "cell_type": "markdown",
   "id": "e88a6381",
   "metadata": {},
   "source": [
    "Selecting 4 cups from 10 gives an approx. 0.48% chance of randomly choosing the correct cups."
   ]
  },
  {
   "cell_type": "markdown",
   "id": "96a73b1a",
   "metadata": {},
   "source": [
    "#### 1.1 - Bonus"
   ]
  },
  {
   "cell_type": "markdown",
   "id": "0d6bddd7",
   "metadata": {},
   "source": [
    "How many would be required if you were to let the taster get one cup wrong while maintaining the 1% threshold?\n",
    "\n",
    "If the tester is allowed to get one wrong, then using the original problem - they can pick 5 cups from 8."
   ]
  },
  {
   "cell_type": "code",
   "execution_count": 5,
   "id": "69ce7467",
   "metadata": {},
   "outputs": [
    {
     "data": {
      "text/plain": [
       "1.79"
      ]
     },
     "execution_count": 5,
     "metadata": {},
     "output_type": "execute_result"
    }
   ],
   "source": [
    "round(1/math.comb(8,5)*100, 2)"
   ]
  },
  {
   "cell_type": "markdown",
   "id": "902364ec",
   "metadata": {},
   "source": [
    "This gives a 1.79 % chance, up from 1.5 %. We will increase the sample size again to 9 - so selecting 5 from 9 (4 correct, 1 wrong)"
   ]
  },
  {
   "cell_type": "code",
   "execution_count": 6,
   "id": "a686898d",
   "metadata": {},
   "outputs": [
    {
     "data": {
      "text/plain": [
       "0.79"
      ]
     },
     "execution_count": 6,
     "metadata": {},
     "output_type": "execute_result"
    }
   ],
   "source": [
    "round(1/math.comb(9,5)*100, 2)"
   ]
  },
  {
   "cell_type": "markdown",
   "id": "a38d3047",
   "metadata": {},
   "source": [
    "Again, this gives a 0.79% chance as selecting 5 from 9 is the statistically the same as selecting 4 from 9."
   ]
  },
  {
   "cell_type": "code",
   "execution_count": null,
   "id": "a1bb252e",
   "metadata": {},
   "outputs": [],
   "source": []
  }
 ],
 "metadata": {
  "kernelspec": {
   "display_name": "Python 3 (ipykernel)",
   "language": "python",
   "name": "python3"
  },
  "language_info": {
   "codemirror_mode": {
    "name": "ipython",
    "version": 3
   },
   "file_extension": ".py",
   "mimetype": "text/x-python",
   "name": "python",
   "nbconvert_exporter": "python",
   "pygments_lexer": "ipython3",
   "version": "3.9.12"
  }
 },
 "nbformat": 4,
 "nbformat_minor": 5
}
