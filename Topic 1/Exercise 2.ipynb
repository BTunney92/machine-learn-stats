{
 "cells": [
  {
   "cell_type": "markdown",
   "id": "94a62164",
   "metadata": {},
   "source": [
    "### Exercise 2 - Use scipy's version of Fisher's exact test to simulate the Lady Tasting Tea problem."
   ]
  },
  {
   "cell_type": "markdown",
   "id": "9e1f9769",
   "metadata": {},
   "source": [
    "To simulate the test, I will begin with code adapted from https://docs.scipy.org/doc/scipy/reference/generated/scipy.stats.fisher_exact.html"
   ]
  },
  {
   "cell_type": "markdown",
   "id": "37736181",
   "metadata": {},
   "source": [
    "Fisher's exact test is performed using a 2x2 contigency table. I will create it below using pandas dataframe"
   ]
  },
  {
   "cell_type": "code",
   "execution_count": 6,
   "id": "75a14443",
   "metadata": {},
   "outputs": [],
   "source": [
    "import numpy as np\n",
    "import pandas as pd"
   ]
  },
  {
   "cell_type": "code",
   "execution_count": 8,
   "id": "c36737d5",
   "metadata": {},
   "outputs": [
    {
     "data": {
      "text/html": [
       "<div>\n",
       "<style scoped>\n",
       "    .dataframe tbody tr th:only-of-type {\n",
       "        vertical-align: middle;\n",
       "    }\n",
       "\n",
       "    .dataframe tbody tr th {\n",
       "        vertical-align: top;\n",
       "    }\n",
       "\n",
       "    .dataframe thead th {\n",
       "        text-align: right;\n",
       "    }\n",
       "</style>\n",
       "<table border=\"1\" class=\"dataframe\">\n",
       "  <thead>\n",
       "    <tr style=\"text-align: right;\">\n",
       "      <th></th>\n",
       "      <th>Milk First</th>\n",
       "      <th>Tea First</th>\n",
       "    </tr>\n",
       "  </thead>\n",
       "  <tbody>\n",
       "    <tr>\n",
       "      <th>Cups</th>\n",
       "      <td>0.0</td>\n",
       "      <td>4.0</td>\n",
       "    </tr>\n",
       "    <tr>\n",
       "      <th>Cups</th>\n",
       "      <td>4.0</td>\n",
       "      <td>0.0</td>\n",
       "    </tr>\n",
       "  </tbody>\n",
       "</table>\n",
       "</div>"
      ],
      "text/plain": [
       "      Milk First  Tea First\n",
       "Cups         0.0        4.0\n",
       "Cups         4.0        0.0"
      ]
     },
     "execution_count": 8,
     "metadata": {},
     "output_type": "execute_result"
    }
   ],
   "source": [
    "ar=np.array([[0.0, 4.0],[4.0, 0.0]])    \n",
    "df=pd.DataFrame(ar, columns=[\"Milk First\", \"Tea First\"])\n",
    "df.index=[\"Cups\", \"Cups\"] \n",
    "df "
   ]
  },
  {
   "cell_type": "code",
   "execution_count": 1,
   "id": "8a58389e",
   "metadata": {},
   "outputs": [],
   "source": [
    "from scipy.stats import fisher_exact"
   ]
  },
  {
   "cell_type": "code",
   "execution_count": 16,
   "id": "01e2f0db",
   "metadata": {},
   "outputs": [
    {
     "data": {
      "text/plain": [
       "0.028571428571428536"
      ]
     },
     "execution_count": 16,
     "metadata": {},
     "output_type": "execute_result"
    }
   ],
   "source": [
    "oddsratio, pvalue = fisher_exact([[4, 0], [0, 4]])\n",
    "pvalue"
   ]
  },
  {
   "cell_type": "markdown",
   "id": "6c3500e9",
   "metadata": {},
   "source": [
    "The exact test gives a result that is twice the result from the 'math.comb()' function in the previous exercise. The above result is a result of using the default 'two sided' hypothesis."
   ]
  },
  {
   "cell_type": "markdown",
   "id": "8aaaf9f8",
   "metadata": {},
   "source": [
    "I will explore the other parameters below.\n",
    "\n",
    "Using the alternative hypothesis = 'less' gives the following result."
   ]
  },
  {
   "cell_type": "code",
   "execution_count": 14,
   "id": "861b2f93",
   "metadata": {},
   "outputs": [
    {
     "data": {
      "text/plain": [
       "1.0"
      ]
     },
     "execution_count": 14,
     "metadata": {},
     "output_type": "execute_result"
    }
   ],
   "source": [
    "oddsratio, pvalue = fisher_exact([[4, 0], [0, 4]], alternative = 'less')\n",
    "pvalue"
   ]
  },
  {
   "cell_type": "markdown",
   "id": "2c3de06a",
   "metadata": {},
   "source": [
    "Using 'greater' gives the same result as the 'math.comb()' test in the previous exercise."
   ]
  },
  {
   "cell_type": "code",
   "execution_count": 15,
   "id": "9f31ed69",
   "metadata": {},
   "outputs": [
    {
     "data": {
      "text/plain": [
       "0.014285714285714268"
      ]
     },
     "execution_count": 15,
     "metadata": {},
     "output_type": "execute_result"
    }
   ],
   "source": [
    "oddsratio, pvalue = fisher_exact([[4, 0], [0, 4]], alternative = 'greater')\n",
    "pvalue"
   ]
  },
  {
   "cell_type": "code",
   "execution_count": null,
   "id": "28e6b710",
   "metadata": {},
   "outputs": [],
   "source": []
  },
  {
   "cell_type": "code",
   "execution_count": null,
   "id": "b5be5c1f",
   "metadata": {},
   "outputs": [],
   "source": []
  }
 ],
 "metadata": {
  "kernelspec": {
   "display_name": "Python 3 (ipykernel)",
   "language": "python",
   "name": "python3"
  },
  "language_info": {
   "codemirror_mode": {
    "name": "ipython",
    "version": 3
   },
   "file_extension": ".py",
   "mimetype": "text/x-python",
   "name": "python",
   "nbconvert_exporter": "python",
   "pygments_lexer": "ipython3",
   "version": "3.9.12"
  }
 },
 "nbformat": 4,
 "nbformat_minor": 5
}
