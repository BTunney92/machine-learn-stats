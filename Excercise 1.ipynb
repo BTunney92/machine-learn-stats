{
 "cells": [
  {
   "cell_type": "code",
   "execution_count": null,
   "id": "af10f8e9",
   "metadata": {},
   "outputs": [],
   "source": []
  },
  {
   "cell_type": "code",
   "execution_count": 1,
   "id": "3c1a2f94",
   "metadata": {},
   "outputs": [
    {
     "name": "stdout",
     "output_type": "stream",
     "text": [
      "[0, 1, 2, 3, 4, 5, 6, 7]\n"
     ]
    }
   ],
   "source": [
    "# 8 cups of tea made. 4 with milk first, 4 with Milk second.\n",
    "cups = list(range(8))\n",
    "print(cups)"
   ]
  },
  {
   "cell_type": "code",
   "execution_count": 4,
   "id": "b0573d7e",
   "metadata": {},
   "outputs": [
    {
     "data": {
      "text/plain": [
       "70.0"
      ]
     },
     "execution_count": 4,
     "metadata": {},
     "output_type": "execute_result"
    }
   ],
   "source": [
    "# Tester selects 4 cups from 8 which gives 70 different combinations\n",
    "\n",
    "((8*7*6*5)/(4*3*2*1))"
   ]
  },
  {
   "cell_type": "code",
   "execution_count": 5,
   "id": "f8fa7712",
   "metadata": {},
   "outputs": [
    {
     "data": {
      "text/plain": [
       "1.4285714285714286"
      ]
     },
     "execution_count": 5,
     "metadata": {},
     "output_type": "execute_result"
    }
   ],
   "source": [
    "# This means the tester has a 1/70 chance of picking the correct combination (Milk first)\n",
    "\n",
    "1/70*100"
   ]
  },
  {
   "cell_type": "code",
   "execution_count": 7,
   "id": "c690cce7",
   "metadata": {},
   "outputs": [],
   "source": [
    "# Excercise - Calculate the minimum number of cups of tea required to ensure the probability of randomly \n",
    "# selecting the correct cups is less than or equal to 1%."
   ]
  },
  {
   "cell_type": "code",
   "execution_count": 8,
   "id": "8f94141d",
   "metadata": {},
   "outputs": [
    {
     "name": "stdout",
     "output_type": "stream",
     "text": [
      "[0, 1, 2, 3, 4, 5, 6, 7, 8]\n"
     ]
    }
   ],
   "source": [
    "# If 8 cups gives a 1.43% chance of selecting the correct order, the sample size needs to increase to get it less than or equal to 1%\n",
    "\n",
    "cups = list(range(9))\n",
    "print(cups)\n"
   ]
  },
  {
   "cell_type": "code",
   "execution_count": 11,
   "id": "d583acae",
   "metadata": {},
   "outputs": [
    {
     "data": {
      "text/plain": [
       "126.0"
      ]
     },
     "execution_count": 11,
     "metadata": {},
     "output_type": "execute_result"
    }
   ],
   "source": [
    "# Tester is now picking 4 cups from 9 total. Number of possibile combinations\n",
    "\n",
    "((9*8*7*6*5)/(5*4*3*2*1))"
   ]
  },
  {
   "cell_type": "code",
   "execution_count": 13,
   "id": "d14a88fc",
   "metadata": {},
   "outputs": [
    {
     "data": {
      "text/plain": [
       "0.7936507936507936"
      ]
     },
     "execution_count": 13,
     "metadata": {},
     "output_type": "execute_result"
    }
   ],
   "source": [
    "#Tester has a 0.79% chance of picking to correct order with 9 samples. If we were to use 10 cups, the % would lower again.\n",
    "1/126*100"
   ]
  },
  {
   "cell_type": "code",
   "execution_count": null,
   "id": "e6f8e470",
   "metadata": {},
   "outputs": [],
   "source": []
  }
 ],
 "metadata": {
  "kernelspec": {
   "display_name": "Python 3 (ipykernel)",
   "language": "python",
   "name": "python3"
  },
  "language_info": {
   "codemirror_mode": {
    "name": "ipython",
    "version": 3
   },
   "file_extension": ".py",
   "mimetype": "text/x-python",
   "name": "python",
   "nbconvert_exporter": "python",
   "pygments_lexer": "ipython3",
   "version": "3.9.12"
  }
 },
 "nbformat": 4,
 "nbformat_minor": 5
}
