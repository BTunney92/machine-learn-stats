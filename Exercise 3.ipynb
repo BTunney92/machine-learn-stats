{
 "cells": [
  {
   "cell_type": "markdown",
   "id": "ec8379f2",
   "metadata": {},
   "source": [
    "#### Exercise 3\n",
    "\n",
    "Take the code from the Examples section of the scipy stats documentation for independent samples t-tests, add it to your own notebook and add explain how it works using MarkDown cells and code comments. Improve it in any way you think it could be improved - [1] https://docs.scipy.org/doc/scipy/reference/generated/scipy.stats.ttest_ind.html\n",
    "\n",
    "A t-test is used to determine the whether a significant difference exists between the means of two groups. \n",
    "[2] https://www.geeksforgeeks.org/t-test/"
   ]
  },
  {
   "cell_type": "code",
   "execution_count": 38,
   "id": "ce253a44",
   "metadata": {},
   "outputs": [],
   "source": [
    "# Importing scipy package along with numpy for random number generator \n",
    "\n",
    "import numpy as np\n",
    "from scipy import stats\n",
    "\n",
    "rng = np.random.default_rng()"
   ]
  },
  {
   "cell_type": "markdown",
   "id": "8fa44aa1",
   "metadata": {},
   "source": [
    "The random variable samples are created using 'stats.norm.rvs' function. It uses loc/mean, scale/SD & size/sample size. Random_state=rng is generating the numbers within the sample size. These are random and will be different each time the code is run.\n",
    "\n",
    "stats.ttest_ind is called to run the t-test - comparing samples created and seeing if a significant difference occurs between the means. [1]"
   ]
  },
  {
   "cell_type": "code",
   "execution_count": 39,
   "id": "907b9477",
   "metadata": {},
   "outputs": [
    {
     "data": {
      "text/plain": [
       "Ttest_indResult(statistic=-0.46405456525244576, pvalue=0.6427098551278856)"
      ]
     },
     "execution_count": 39,
     "metadata": {},
     "output_type": "execute_result"
    }
   ],
   "source": [
    "rvs1 = stats.norm.rvs(loc=5, scale=10, size=500, random_state=rng)\n",
    "rvs2 = stats.norm.rvs(loc=5, scale=10, size=500, random_state=rng)\n",
    "stats.ttest_ind(rvs1, rvs2)\n",
    "\n"
   ]
  },
  {
   "cell_type": "markdown",
   "id": "af883cb5",
   "metadata": {},
   "source": [
    "stats.ttest_ind by default is making the assumption that the samples have equal population variances. The above test is not making that assumption and so includes 'equal_var=False'. [1]"
   ]
  },
  {
   "cell_type": "code",
   "execution_count": 40,
   "id": "68ed47b9",
   "metadata": {},
   "outputs": [
    {
     "data": {
      "text/plain": [
       "Ttest_indResult(statistic=-0.46405456525244587, pvalue=0.6427098896763377)"
      ]
     },
     "execution_count": 40,
     "metadata": {},
     "output_type": "execute_result"
    }
   ],
   "source": [
    "stats.ttest_ind(rvs1, rvs2, equal_var=False)"
   ]
  },
  {
   "cell_type": "markdown",
   "id": "8c1e6324",
   "metadata": {},
   "source": [
    "You can see a slight difference in the pvalue when run with the default equal variance and the 'false' parameter - Welch t-test."
   ]
  },
  {
   "cell_type": "markdown",
   "id": "6c3c9f67",
   "metadata": {},
   "source": [
    "RVS3 is run with a larger scale"
   ]
  },
  {
   "cell_type": "code",
   "execution_count": 41,
   "id": "811e059f",
   "metadata": {},
   "outputs": [
    {
     "data": {
      "text/plain": [
       "Ttest_indResult(statistic=-0.36712575990628193, pvalue=0.7136030435014769)"
      ]
     },
     "execution_count": 41,
     "metadata": {},
     "output_type": "execute_result"
    }
   ],
   "source": [
    "rvs3 = stats.norm.rvs(loc=5, scale=20, size=500, random_state=rng)\n",
    "\n",
    "stats.ttest_ind(rvs1, rvs3)\n"
   ]
  },
  {
   "cell_type": "code",
   "execution_count": 42,
   "id": "1101361d",
   "metadata": {},
   "outputs": [
    {
     "data": {
      "text/plain": [
       "Ttest_indResult(statistic=-0.36712575990628193, pvalue=0.7136305533069762)"
      ]
     },
     "execution_count": 42,
     "metadata": {},
     "output_type": "execute_result"
    }
   ],
   "source": [
    "stats.ttest_ind(rvs1, rvs3, equal_var=False)"
   ]
  },
  {
   "cell_type": "code",
   "execution_count": null,
   "id": "91100cdf",
   "metadata": {},
   "outputs": [],
   "source": []
  },
  {
   "cell_type": "code",
   "execution_count": 43,
   "id": "59313f0f",
   "metadata": {},
   "outputs": [
    {
     "data": {
      "text/plain": [
       "Ttest_indResult(statistic=-1.1128502640098685, pvalue=0.26621988515658185)"
      ]
     },
     "execution_count": 43,
     "metadata": {},
     "output_type": "execute_result"
    }
   ],
   "source": [
    "rvs4 = stats.norm.rvs(loc=5, scale=20, size=100, random_state=rng)\n",
    "\n",
    "stats.ttest_ind(rvs1, rvs4)\n",
    "\n"
   ]
  },
  {
   "cell_type": "code",
   "execution_count": 44,
   "id": "3ea3b347",
   "metadata": {},
   "outputs": [
    {
     "data": {
      "text/plain": [
       "Ttest_indResult(statistic=-0.7371155984859585, pvalue=0.4626268371025781)"
      ]
     },
     "execution_count": 44,
     "metadata": {},
     "output_type": "execute_result"
    }
   ],
   "source": [
    "stats.ttest_ind(rvs1, rvs4, equal_var=False)"
   ]
  },
  {
   "cell_type": "code",
   "execution_count": 45,
   "id": "69abde64",
   "metadata": {},
   "outputs": [
    {
     "data": {
      "text/plain": [
       "Ttest_indResult(statistic=-1.869431002451555, pvalue=0.06414330077404147)"
      ]
     },
     "execution_count": 45,
     "metadata": {},
     "output_type": "execute_result"
    }
   ],
   "source": [
    "rvs5 = stats.norm.rvs(loc=8, scale=20, size=100, random_state=rng)\n",
    "\n",
    "stats.ttest_ind(rvs1, rvs5)\n",
    "\n",
    "stats.ttest_ind(rvs1, rvs5, equal_var=False)"
   ]
  },
  {
   "cell_type": "code",
   "execution_count": null,
   "id": "ddbab87b",
   "metadata": {},
   "outputs": [],
   "source": []
  },
  {
   "cell_type": "code",
   "execution_count": null,
   "id": "f8c509af",
   "metadata": {},
   "outputs": [],
   "source": []
  },
  {
   "cell_type": "code",
   "execution_count": null,
   "id": "fca733a9",
   "metadata": {},
   "outputs": [],
   "source": []
  },
  {
   "cell_type": "code",
   "execution_count": null,
   "id": "f325fb42",
   "metadata": {},
   "outputs": [],
   "source": []
  },
  {
   "cell_type": "code",
   "execution_count": null,
   "id": "8ec4a842",
   "metadata": {},
   "outputs": [],
   "source": []
  },
  {
   "cell_type": "code",
   "execution_count": null,
   "id": "dd5b0778",
   "metadata": {},
   "outputs": [],
   "source": []
  }
 ],
 "metadata": {
  "kernelspec": {
   "display_name": "Python 3 (ipykernel)",
   "language": "python",
   "name": "python3"
  },
  "language_info": {
   "codemirror_mode": {
    "name": "ipython",
    "version": 3
   },
   "file_extension": ".py",
   "mimetype": "text/x-python",
   "name": "python",
   "nbconvert_exporter": "python",
   "pygments_lexer": "ipython3",
   "version": "3.9.12"
  }
 },
 "nbformat": 4,
 "nbformat_minor": 5
}
