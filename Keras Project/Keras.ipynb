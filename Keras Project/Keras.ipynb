{
 "cells": [
  {
   "cell_type": "markdown",
   "id": "4eb3d55b",
   "metadata": {},
   "source": [
    "![title](img/keras_logo.png)"
   ]
  },
  {
   "cell_type": "markdown",
   "id": "a7fa4d7c",
   "metadata": {},
   "source": [
    "## Introduction\n"
   ]
  },
  {
   "cell_type": "markdown",
   "id": "c73dd071",
   "metadata": {},
   "source": [
    "##### KERAS INTRODUCTION #####"
   ]
  },
  {
   "cell_type": "markdown",
   "id": "91875208",
   "metadata": {},
   "source": [
    "Keras is a high level, deep learning API written in Python. It was developed by Google for implementation of neural networks[1]. Its primary author is François Chollet. Keras is considered slower than other deep learning frameworks but more user friendly.\n",
    "Frameworks supported by Keras are Tensorflow, Theano, PlaidML, MXNet, CNTK (Microsoft Cognitive Toolkit). [2]\n"
   ]
  },
  {
   "cell_type": "markdown",
   "id": "4bcb4479",
   "metadata": {},
   "source": [
    "![title](img/BackEnd.png)"
   ]
  },
  {
   "cell_type": "markdown",
   "id": "5e12cf64",
   "metadata": {},
   "source": [
    "TensorFlow has made Keras its official high-level API and Keras and it is embedded in TensorFlow."
   ]
  },
  {
   "cell_type": "markdown",
   "id": "2dad5c40",
   "metadata": {},
   "source": [
    "#### TensorFlow ####"
   ]
  },
  {
   "cell_type": "markdown",
   "id": "65910efa",
   "metadata": {},
   "source": [
    "TensorFlow is an open source, end to end framework for machine learning and use in artificial intelligence. Developed by Google, TensorFlow can be used with multiple programming languages including Python, Java & C ++ leading to its use in many applications."
   ]
  },
  {
   "cell_type": "markdown",
   "id": "24cfcd36",
   "metadata": {},
   "source": [
    "TensorFlow has many features, among them it's ability to work efficiently with mathematical formulas involving multi-dimensional arrays. It also has strong support for nueral networks and machine learning concepts which I will speak about further below. [4]"
   ]
  },
  {
   "cell_type": "markdown",
   "id": "b9381c73",
   "metadata": {},
   "source": [
    "## Anomaly Detection ##\n",
    "\n",
    "Anomaly detection in computer science is the process of indentifying unusual or unexpected results/observations that differ from the norm in a dataset.\n",
    "\n",
    "Real world examples of why anomaly detection is important would be is to detect fraud in the financial industry. A sudden increase in transactions or transaction amounts could be indication of fraud. "
   ]
  },
  {
   "cell_type": "markdown",
   "id": "2f882a66",
   "metadata": {},
   "source": [
    "https://keras.io/examples/timeseries/timeseries_anomaly_detection/"
   ]
  },
  {
   "cell_type": "code",
   "execution_count": 1,
   "id": "e9a234e2",
   "metadata": {},
   "outputs": [],
   "source": [
    "# Importing Numpy for numerical arrays\n",
    "\n",
    "import numpy as np\n",
    "\n",
    "# Importing Pandas for creating dataframes\n",
    "\n",
    "import pandas as pd\n",
    "\n",
    "# Importing Keras from tensorflow library - Neural Networks\n",
    "\n",
    "from tensorflow import keras\n",
    "\n",
    "# Importing layers of Neural Networks\n",
    "\n",
    "from tensorflow.keras import layers\n",
    "\n",
    "# Importing pyplot for plotting figures\n",
    "\n",
    "from matplotlib import pyplot as plt\n"
   ]
  },
  {
   "cell_type": "markdown",
   "id": "8444049d",
   "metadata": {},
   "source": [
    "## Loading the Data"
   ]
  },
  {
   "cell_type": "markdown",
   "id": "d29b15b6",
   "metadata": {},
   "source": [
    "https://www.kaggle.com/datasets/boltzmannbrain/nab\n",
    "\n",
    "The Keras model is using data from the Numenta Anomaly Benchmark (NAB) dataset. The (NAB) is a novel benchmark for evaluating algorithms for anomaly detection in streaming, online applications. It is comprised of over 50 labeled real-world and artificial timeseries data files plus a novel scoring mechanism designed for real-time applications. All of the data and code is fully open-source.\n",
    "\n",
    "The below model uses two of these datasets - art_daily_small_noise.csv & art_daily_jumpsup.csv."
   ]
  },
  {
   "cell_type": "code",
   "execution_count": 2,
   "id": "9dc4455a",
   "metadata": {},
   "outputs": [],
   "source": [
    "# Root of URLs.\n",
    "root_url = 'https://raw.githubusercontent.com/numenta/NAB/master/data/'\n",
    "\n",
    "# Data file without anomaly.\n",
    "no_anomaly_url = root_url + 'artificialNoAnomaly/art_daily_small_noise.csv'\n",
    "\n",
    "# Data file with anomaly.\n",
    "with_anomaly_url = root_url + 'artificialWithAnomaly/art_daily_jumpsup.csv'\n",
    "\n"
   ]
  },
  {
   "cell_type": "code",
   "execution_count": 3,
   "id": "4df124dd",
   "metadata": {},
   "outputs": [
    {
     "data": {
      "text/plain": [
       "'https://raw.githubusercontent.com/numenta/NAB/master/data/artificialNoAnomaly/art_daily_small_noise.csv'"
      ]
     },
     "execution_count": 3,
     "metadata": {},
     "output_type": "execute_result"
    }
   ],
   "source": [
    "# Can check that your URL the root & file url have combined. Copy URL to look at raw data.\n",
    "no_anomaly_url\n"
   ]
  },
  {
   "cell_type": "code",
   "execution_count": 4,
   "id": "aa2cd1c8",
   "metadata": {},
   "outputs": [
    {
     "data": {
      "text/plain": [
       "'https://raw.githubusercontent.com/numenta/NAB/master/data/artificialWithAnomaly/art_daily_jumpsup.csv'"
      ]
     },
     "execution_count": 4,
     "metadata": {},
     "output_type": "execute_result"
    }
   ],
   "source": [
    "# Can check that your URL the root & file url have combined. Copy URL to look at raw data.\n",
    "with_anomaly_url"
   ]
  },
  {
   "cell_type": "code",
   "execution_count": 5,
   "id": "2967ec58",
   "metadata": {},
   "outputs": [],
   "source": [
    "# Reading in both datasets using pandas using \"timestamp\" as our Index column\n",
    "\n",
    "df_small_noise = pd.read_csv(no_anomaly_url, parse_dates=True, index_col=\"timestamp\")\n",
    "\n",
    "df_daily_jumpsup = pd.read_csv(with_anomaly_url, parse_dates=True, index_col=\"timestamp\")"
   ]
  },
  {
   "cell_type": "markdown",
   "id": "0031ea34",
   "metadata": {},
   "source": [
    "#### No Anomaly #### \n",
    "\n",
    "Taking a look at some summary stats and plotting graphs on the first dataset. We will do this with the anomaly dataset too. \n",
    "\n",
    "Purpose is to 'sense check' the data so we know we are working with a proper data set."
   ]
  },
  {
   "cell_type": "code",
   "execution_count": 6,
   "id": "f21830c4",
   "metadata": {},
   "outputs": [
    {
     "name": "stdout",
     "output_type": "stream",
     "text": [
      "                         value\n",
      "timestamp                     \n",
      "2014-04-01 00:00:00  18.324919\n",
      "2014-04-01 00:05:00  21.970327\n",
      "2014-04-01 00:10:00  18.624806\n",
      "2014-04-01 00:15:00  21.953684\n",
      "2014-04-01 00:20:00  21.909120\n"
     ]
    }
   ],
   "source": [
    "# Print data without anomaly. Defaults to first 5 rows but this can be changed by inserting a number.\n",
    "\n",
    "print(df_small_noise.head()) \n"
   ]
  },
  {
   "cell_type": "code",
   "execution_count": 7,
   "id": "ff8bc1e0",
   "metadata": {},
   "outputs": [
    {
     "data": {
      "text/plain": [
       "(4032, 1)"
      ]
     },
     "execution_count": 7,
     "metadata": {},
     "output_type": "execute_result"
    }
   ],
   "source": [
    "# Using Pandas'shape' attribute to get the shape of the data.\n",
    "\n",
    "df_small_noise.shape"
   ]
  },
  {
   "cell_type": "markdown",
   "id": "bed81eb6",
   "metadata": {},
   "source": [
    "4032 rows & 1 column"
   ]
  },
  {
   "cell_type": "code",
   "execution_count": 8,
   "id": "4f05a3f2",
   "metadata": {},
   "outputs": [
    {
     "data": {
      "text/html": [
       "<div>\n",
       "<style scoped>\n",
       "    .dataframe tbody tr th:only-of-type {\n",
       "        vertical-align: middle;\n",
       "    }\n",
       "\n",
       "    .dataframe tbody tr th {\n",
       "        vertical-align: top;\n",
       "    }\n",
       "\n",
       "    .dataframe thead th {\n",
       "        text-align: right;\n",
       "    }\n",
       "</style>\n",
       "<table border=\"1\" class=\"dataframe\">\n",
       "  <thead>\n",
       "    <tr style=\"text-align: right;\">\n",
       "      <th></th>\n",
       "      <th>value</th>\n",
       "    </tr>\n",
       "  </thead>\n",
       "  <tbody>\n",
       "    <tr>\n",
       "      <th>count</th>\n",
       "      <td>4032.000000</td>\n",
       "    </tr>\n",
       "    <tr>\n",
       "      <th>mean</th>\n",
       "      <td>42.438353</td>\n",
       "    </tr>\n",
       "    <tr>\n",
       "      <th>std</th>\n",
       "      <td>28.077122</td>\n",
       "    </tr>\n",
       "    <tr>\n",
       "      <th>min</th>\n",
       "      <td>18.000964</td>\n",
       "    </tr>\n",
       "    <tr>\n",
       "      <th>25%</th>\n",
       "      <td>19.841390</td>\n",
       "    </tr>\n",
       "    <tr>\n",
       "      <th>50%</th>\n",
       "      <td>21.608487</td>\n",
       "    </tr>\n",
       "    <tr>\n",
       "      <th>75%</th>\n",
       "      <td>75.450282</td>\n",
       "    </tr>\n",
       "    <tr>\n",
       "      <th>max</th>\n",
       "      <td>87.976128</td>\n",
       "    </tr>\n",
       "  </tbody>\n",
       "</table>\n",
       "</div>"
      ],
      "text/plain": [
       "             value\n",
       "count  4032.000000\n",
       "mean     42.438353\n",
       "std      28.077122\n",
       "min      18.000964\n",
       "25%      19.841390\n",
       "50%      21.608487\n",
       "75%      75.450282\n",
       "max      87.976128"
      ]
     },
     "execution_count": 8,
     "metadata": {},
     "output_type": "execute_result"
    }
   ],
   "source": [
    "# Getting descriptive stats - No anomaly\n",
    "\n",
    "df_small_noise.describe()"
   ]
  },
  {
   "cell_type": "markdown",
   "id": "dfc1034b",
   "metadata": {},
   "source": [
    "The 'describe' function gives a overview of the data in the file.\n",
    "\n",
    "Count - # of rows of data.\n",
    "\n",
    "Mean - The average value.\n",
    "\n",
    "STD - Standard deviation of the values.\n",
    "\n",
    "Min - Minimum value observed.\n",
    "\n",
    "Percentiles - 25, 50 & 75. 50 is the same as the median. From the above, we can see that 25% of values are 19.841 or lower. 75 % of values are 75.450 or lower.\n",
    "\n",
    "Max - The maximum observed value.\n",
    "\n"
   ]
  },
  {
   "cell_type": "code",
   "execution_count": 9,
   "id": "7acd2d84",
   "metadata": {},
   "outputs": [],
   "source": [
    "# Plotting Data - No anomaly"
   ]
  },
  {
   "cell_type": "code",
   "execution_count": 10,
   "id": "c9f2380d",
   "metadata": {},
   "outputs": [
    {
     "data": {
      "image/png": "[encoded data removed]",
      "text/plain": [
       "<Figure size 1080x360 with 1 Axes>"
      ]
     },
     "metadata": {
      "needs_background": "light"
     },
     "output_type": "display_data"
    }
   ],
   "source": [
    "fig, ax = plt.subplots(figsize = (15,5))\n",
    "df_small_noise.plot(legend=False, ax=ax)\n",
    "plt.show()\n"
   ]
  },
  {
   "cell_type": "markdown",
   "id": "2af7db8a",
   "metadata": {},
   "source": [
    "#### With Anomaly ####\n",
    "\n",
    "Taking a look at some summary stats and plotting graphs on the second dataset"
   ]
  },
  {
   "cell_type": "code",
   "execution_count": 11,
   "id": "62b189c4",
   "metadata": {},
   "outputs": [
    {
     "name": "stdout",
     "output_type": "stream",
     "text": [
      "                         value\n",
      "timestamp                     \n",
      "2014-04-01 00:00:00  19.761252\n",
      "2014-04-01 00:05:00  20.500833\n",
      "2014-04-01 00:10:00  19.961641\n",
      "2014-04-01 00:15:00  21.490266\n",
      "2014-04-01 00:20:00  20.187739\n"
     ]
    }
   ],
   "source": [
    "print(df_daily_jumpsup.head())"
   ]
  },
  {
   "cell_type": "code",
   "execution_count": 12,
   "id": "376deb91",
   "metadata": {},
   "outputs": [
    {
     "data": {
      "text/plain": [
       "(4032, 1)"
      ]
     },
     "execution_count": 12,
     "metadata": {},
     "output_type": "execute_result"
    }
   ],
   "source": [
    "df_daily_jumpsup.shape"
   ]
  },
  {
   "cell_type": "markdown",
   "id": "d22b49de",
   "metadata": {},
   "source": [
    "Again, 4032 rows & 1 column\n"
   ]
  },
  {
   "cell_type": "code",
   "execution_count": 13,
   "id": "4fcf34e2",
   "metadata": {},
   "outputs": [
    {
     "data": {
      "text/html": [
       "<div>\n",
       "<style scoped>\n",
       "    .dataframe tbody tr th:only-of-type {\n",
       "        vertical-align: middle;\n",
       "    }\n",
       "\n",
       "    .dataframe tbody tr th {\n",
       "        vertical-align: top;\n",
       "    }\n",
       "\n",
       "    .dataframe thead th {\n",
       "        text-align: right;\n",
       "    }\n",
       "</style>\n",
       "<table border=\"1\" class=\"dataframe\">\n",
       "  <thead>\n",
       "    <tr style=\"text-align: right;\">\n",
       "      <th></th>\n",
       "      <th>value</th>\n",
       "    </tr>\n",
       "  </thead>\n",
       "  <tbody>\n",
       "    <tr>\n",
       "      <th>count</th>\n",
       "      <td>4032.000000</td>\n",
       "    </tr>\n",
       "    <tr>\n",
       "      <th>mean</th>\n",
       "      <td>44.494254</td>\n",
       "    </tr>\n",
       "    <tr>\n",
       "      <th>std</th>\n",
       "      <td>32.432473</td>\n",
       "    </tr>\n",
       "    <tr>\n",
       "      <th>min</th>\n",
       "      <td>18.001010</td>\n",
       "    </tr>\n",
       "    <tr>\n",
       "      <th>25%</th>\n",
       "      <td>19.991382</td>\n",
       "    </tr>\n",
       "    <tr>\n",
       "      <th>50%</th>\n",
       "      <td>21.648503</td>\n",
       "    </tr>\n",
       "    <tr>\n",
       "      <th>75%</th>\n",
       "      <td>76.435943</td>\n",
       "    </tr>\n",
       "    <tr>\n",
       "      <th>max</th>\n",
       "      <td>164.947481</td>\n",
       "    </tr>\n",
       "  </tbody>\n",
       "</table>\n",
       "</div>"
      ],
      "text/plain": [
       "             value\n",
       "count  4032.000000\n",
       "mean     44.494254\n",
       "std      32.432473\n",
       "min      18.001010\n",
       "25%      19.991382\n",
       "50%      21.648503\n",
       "75%      76.435943\n",
       "max     164.947481"
      ]
     },
     "execution_count": 13,
     "metadata": {},
     "output_type": "execute_result"
    }
   ],
   "source": [
    "df_daily_jumpsup.describe()"
   ]
  },
  {
   "cell_type": "code",
   "execution_count": 14,
   "id": "221db073",
   "metadata": {},
   "outputs": [
    {
     "data": {
      "image/png": "[encoded data removed]",
      "text/plain": [
       "<Figure size 1080x360 with 1 Axes>"
      ]
     },
     "metadata": {
      "needs_background": "light"
     },
     "output_type": "display_data"
    }
   ],
   "source": [
    "# Plotting the data and adjusting the fig size for easier viewing.\n",
    "\n",
    "fig, ax = plt.subplots(figsize = (15,5))\n",
    "\n",
    "#Legend = false as \"value\" adds little\n",
    "\n",
    "df_daily_jumpsup.plot(legend=False, ax=ax)\n",
    "plt.show()\n"
   ]
  },
  {
   "cell_type": "markdown",
   "id": "1a6613d1",
   "metadata": {},
   "source": [
    "Using the same functions as we did on the dataset without an anomaly, we can see the difference most clearly in the graph above.  The values between the 11th & 12th are clearly out of sync with the other dates."
   ]
  },
  {
   "cell_type": "markdown",
   "id": "f56d567d",
   "metadata": {},
   "source": [
    "## Preprocessing\n",
    "\n",
    "Here we are preparing the model training data by 'Normalizing' it. Data pre-processing is the process of manipulating or removing data before using it in a model to improve performance. \n",
    "\n",
    "There are many reasons this is done. For example, your dataset may contain duplicate values, missing or incomplete data - all of which can affect performance. [7]"
   ]
  },
  {
   "cell_type": "code",
   "execution_count": 15,
   "id": "6e4d977b",
   "metadata": {},
   "outputs": [
    {
     "data": {
      "text/plain": [
       "value    42.438353\n",
       "dtype: float64"
      ]
     },
     "execution_count": 15,
     "metadata": {},
     "output_type": "execute_result"
    }
   ],
   "source": [
    "# Creating a new variable (train_mean) to store mean without anomaly. Will be used for comparison later\n",
    "train_mean = df_small_noise.mean()\n",
    "\n",
    "train_mean"
   ]
  },
  {
   "cell_type": "code",
   "execution_count": 16,
   "id": "8370a23b",
   "metadata": {},
   "outputs": [
    {
     "data": {
      "text/plain": [
       "value    28.077122\n",
       "dtype: float64"
      ]
     },
     "execution_count": 16,
     "metadata": {},
     "output_type": "execute_result"
    }
   ],
   "source": [
    "# Creating a new variable (train_std) to store STD without anomaly\n",
    "train_std = df_small_noise.std()\n",
    "\n",
    "train_std"
   ]
  },
  {
   "cell_type": "code",
   "execution_count": 17,
   "id": "dcd5d4e9",
   "metadata": {},
   "outputs": [],
   "source": [
    "# To establish the spread of values centered around 0, the mean is subtracted from the pop. & divided by the STD. In effect, scaling the data.\n",
    "\n",
    "df_train_vals = (df_small_noise - train_mean) / train_std\n",
    "\n"
   ]
  },
  {
   "cell_type": "code",
   "execution_count": 18,
   "id": "ad259429",
   "metadata": {},
   "outputs": [
    {
     "data": {
      "text/html": [
       "<div>\n",
       "<style scoped>\n",
       "    .dataframe tbody tr th:only-of-type {\n",
       "        vertical-align: middle;\n",
       "    }\n",
       "\n",
       "    .dataframe tbody tr th {\n",
       "        vertical-align: top;\n",
       "    }\n",
       "\n",
       "    .dataframe thead th {\n",
       "        text-align: right;\n",
       "    }\n",
       "</style>\n",
       "<table border=\"1\" class=\"dataframe\">\n",
       "  <thead>\n",
       "    <tr style=\"text-align: right;\">\n",
       "      <th></th>\n",
       "      <th>value</th>\n",
       "    </tr>\n",
       "    <tr>\n",
       "      <th>timestamp</th>\n",
       "      <th></th>\n",
       "    </tr>\n",
       "  </thead>\n",
       "  <tbody>\n",
       "    <tr>\n",
       "      <th>2014-04-01 00:00:00</th>\n",
       "      <td>-0.858829</td>\n",
       "    </tr>\n",
       "    <tr>\n",
       "      <th>2014-04-01 00:05:00</th>\n",
       "      <td>-0.728993</td>\n",
       "    </tr>\n",
       "    <tr>\n",
       "      <th>2014-04-01 00:10:00</th>\n",
       "      <td>-0.848148</td>\n",
       "    </tr>\n",
       "    <tr>\n",
       "      <th>2014-04-01 00:15:00</th>\n",
       "      <td>-0.729586</td>\n",
       "    </tr>\n",
       "    <tr>\n",
       "      <th>2014-04-01 00:20:00</th>\n",
       "      <td>-0.731173</td>\n",
       "    </tr>\n",
       "  </tbody>\n",
       "</table>\n",
       "</div>"
      ],
      "text/plain": [
       "                        value\n",
       "timestamp                    \n",
       "2014-04-01 00:00:00 -0.858829\n",
       "2014-04-01 00:05:00 -0.728993\n",
       "2014-04-01 00:10:00 -0.848148\n",
       "2014-04-01 00:15:00 -0.729586\n",
       "2014-04-01 00:20:00 -0.731173"
      ]
     },
     "execution_count": 18,
     "metadata": {},
     "output_type": "execute_result"
    }
   ],
   "source": [
    "# Prints the first 5 (by default again) rows of the variation spread\n",
    "df_train_vals.head()\n",
    "\n"
   ]
  },
  {
   "cell_type": "code",
   "execution_count": 19,
   "id": "d478759f",
   "metadata": {},
   "outputs": [
    {
     "data": {
      "image/png": "[encoded data removed]",
      "text/plain": [
       "<Figure size 1080x360 with 1 Axes>"
      ]
     },
     "metadata": {
      "needs_background": "light"
     },
     "output_type": "display_data"
    }
   ],
   "source": [
    "# Plotting these values\n",
    "\n",
    "fig, ax = plt.subplots(figsize = (15,5))\n",
    "df_train_vals.plot(legend=False, ax=ax)\n",
    "plt.title('Normalized Data', fontsize=15)\n",
    "plt.show()\n"
   ]
  },
  {
   "cell_type": "code",
   "execution_count": 20,
   "id": "1c6e2a5c",
   "metadata": {},
   "outputs": [],
   "source": [
    "# Creating two new columns (\"less_mean & \"less_std\") showing the difference between the orginal value\n",
    "df_small_noise['less_mean'] = df_small_noise['value'] - df_small_noise['value'].mean()\n",
    "df_small_noise['div_std'] = df_small_noise['less_mean'] / df_small_noise['value'].std()\n",
    "\n"
   ]
  },
  {
   "cell_type": "code",
   "execution_count": 21,
   "id": "493e4b5f",
   "metadata": {},
   "outputs": [
    {
     "data": {
      "text/html": [
       "<div>\n",
       "<style scoped>\n",
       "    .dataframe tbody tr th:only-of-type {\n",
       "        vertical-align: middle;\n",
       "    }\n",
       "\n",
       "    .dataframe tbody tr th {\n",
       "        vertical-align: top;\n",
       "    }\n",
       "\n",
       "    .dataframe thead th {\n",
       "        text-align: right;\n",
       "    }\n",
       "</style>\n",
       "<table border=\"1\" class=\"dataframe\">\n",
       "  <thead>\n",
       "    <tr style=\"text-align: right;\">\n",
       "      <th></th>\n",
       "      <th>value</th>\n",
       "      <th>less_mean</th>\n",
       "      <th>div_std</th>\n",
       "    </tr>\n",
       "    <tr>\n",
       "      <th>timestamp</th>\n",
       "      <th></th>\n",
       "      <th></th>\n",
       "      <th></th>\n",
       "    </tr>\n",
       "  </thead>\n",
       "  <tbody>\n",
       "    <tr>\n",
       "      <th>2014-04-01 00:00:00</th>\n",
       "      <td>18.324919</td>\n",
       "      <td>-24.113435</td>\n",
       "      <td>-0.858829</td>\n",
       "    </tr>\n",
       "    <tr>\n",
       "      <th>2014-04-01 00:05:00</th>\n",
       "      <td>21.970327</td>\n",
       "      <td>-20.468026</td>\n",
       "      <td>-0.728993</td>\n",
       "    </tr>\n",
       "    <tr>\n",
       "      <th>2014-04-01 00:10:00</th>\n",
       "      <td>18.624806</td>\n",
       "      <td>-23.813547</td>\n",
       "      <td>-0.848148</td>\n",
       "    </tr>\n",
       "    <tr>\n",
       "      <th>2014-04-01 00:15:00</th>\n",
       "      <td>21.953684</td>\n",
       "      <td>-20.484669</td>\n",
       "      <td>-0.729586</td>\n",
       "    </tr>\n",
       "    <tr>\n",
       "      <th>2014-04-01 00:20:00</th>\n",
       "      <td>21.909120</td>\n",
       "      <td>-20.529234</td>\n",
       "      <td>-0.731173</td>\n",
       "    </tr>\n",
       "    <tr>\n",
       "      <th>...</th>\n",
       "      <td>...</td>\n",
       "      <td>...</td>\n",
       "      <td>...</td>\n",
       "    </tr>\n",
       "    <tr>\n",
       "      <th>2014-04-14 23:35:00</th>\n",
       "      <td>20.211195</td>\n",
       "      <td>-22.227159</td>\n",
       "      <td>-0.791647</td>\n",
       "    </tr>\n",
       "    <tr>\n",
       "      <th>2014-04-14 23:40:00</th>\n",
       "      <td>20.531041</td>\n",
       "      <td>-21.907313</td>\n",
       "      <td>-0.780255</td>\n",
       "    </tr>\n",
       "    <tr>\n",
       "      <th>2014-04-14 23:45:00</th>\n",
       "      <td>19.032127</td>\n",
       "      <td>-23.406226</td>\n",
       "      <td>-0.833640</td>\n",
       "    </tr>\n",
       "    <tr>\n",
       "      <th>2014-04-14 23:50:00</th>\n",
       "      <td>21.798801</td>\n",
       "      <td>-20.639552</td>\n",
       "      <td>-0.735102</td>\n",
       "    </tr>\n",
       "    <tr>\n",
       "      <th>2014-04-14 23:55:00</th>\n",
       "      <td>18.682620</td>\n",
       "      <td>-23.755733</td>\n",
       "      <td>-0.846089</td>\n",
       "    </tr>\n",
       "  </tbody>\n",
       "</table>\n",
       "<p>4032 rows × 3 columns</p>\n",
       "</div>"
      ],
      "text/plain": [
       "                         value  less_mean   div_std\n",
       "timestamp                                          \n",
       "2014-04-01 00:00:00  18.324919 -24.113435 -0.858829\n",
       "2014-04-01 00:05:00  21.970327 -20.468026 -0.728993\n",
       "2014-04-01 00:10:00  18.624806 -23.813547 -0.848148\n",
       "2014-04-01 00:15:00  21.953684 -20.484669 -0.729586\n",
       "2014-04-01 00:20:00  21.909120 -20.529234 -0.731173\n",
       "...                        ...        ...       ...\n",
       "2014-04-14 23:35:00  20.211195 -22.227159 -0.791647\n",
       "2014-04-14 23:40:00  20.531041 -21.907313 -0.780255\n",
       "2014-04-14 23:45:00  19.032127 -23.406226 -0.833640\n",
       "2014-04-14 23:50:00  21.798801 -20.639552 -0.735102\n",
       "2014-04-14 23:55:00  18.682620 -23.755733 -0.846089\n",
       "\n",
       "[4032 rows x 3 columns]"
      ]
     },
     "execution_count": 21,
     "metadata": {},
     "output_type": "execute_result"
    }
   ],
   "source": [
    "# Print out with new columns\n",
    "df_small_noise\n"
   ]
  },
  {
   "cell_type": "code",
   "execution_count": 22,
   "id": "155f04a6",
   "metadata": {},
   "outputs": [
    {
     "data": {
      "text/plain": [
       "(42.438353335806646, -7.342627387941552e-14, -2.616541242931684e-15)"
      ]
     },
     "execution_count": 22,
     "metadata": {},
     "output_type": "execute_result"
    }
   ],
   "source": [
    "#Print out mean stats on new columns\n",
    "\n",
    "df_small_noise['value'].mean(), df_small_noise['less_mean'].mean(), df_small_noise['div_std'].mean()"
   ]
  },
  {
   "cell_type": "code",
   "execution_count": 23,
   "id": "9f71bcc3",
   "metadata": {},
   "outputs": [
    {
     "data": {
      "text/plain": [
       "(28.077122281262515, 28.077122281262508, 1.0000000000000018)"
      ]
     },
     "execution_count": 23,
     "metadata": {},
     "output_type": "execute_result"
    }
   ],
   "source": [
    "#Printing out STD stats on new columns\n",
    "\n",
    "df_small_noise['value'].std(), df_small_noise['less_mean'].std(), df_small_noise['div_std'].std()"
   ]
  },
  {
   "cell_type": "markdown",
   "id": "a93c1489",
   "metadata": {},
   "source": [
    "\n",
    "#### Creating Sequences using Windows"
   ]
  },
  {
   "cell_type": "code",
   "execution_count": 24,
   "id": "bdfbfb39",
   "metadata": {},
   "outputs": [
    {
     "data": {
      "text/plain": [
       "(4032, 1)"
      ]
     },
     "execution_count": 24,
     "metadata": {},
     "output_type": "execute_result"
    }
   ],
   "source": [
    "# Getting the shape of the training values dataframe. Once again its 4032\n",
    "df_train_vals.shape"
   ]
  },
  {
   "cell_type": "code",
   "execution_count": 25,
   "id": "735537e3",
   "metadata": {},
   "outputs": [],
   "source": [
    "# 288 comes from the # of timesteps per day. Every 5 minutes for 24 hours.\n",
    "window_size = 288"
   ]
  },
  {
   "cell_type": "markdown",
   "id": "c1d26e10",
   "metadata": {},
   "source": [
    "\n"
   ]
  },
  {
   "cell_type": "code",
   "execution_count": 26,
   "id": "ab0ad723",
   "metadata": {},
   "outputs": [],
   "source": [
    "# Defining Windows/training sequence\n",
    "def windows(vals, N=window_size):\n",
    "  # Strating with an empty list\n",
    "  L = []\n",
    "  # Loop through all possible Windows\n",
    "  for i in range(len(vals) - N + 1):\n",
    "    # Append window to the list\n",
    "    L.append(vals[i:i+N])\n",
    "  # Then stack the windows using numpy stack\n",
    "  return np.stack(L)"
   ]
  },
  {
   "cell_type": "code",
   "execution_count": 27,
   "id": "01961409",
   "metadata": {},
   "outputs": [],
   "source": [
    "# Calling the windows function to create sequences using df_train_vals\n",
    "x_train = windows(df_train_vals)"
   ]
  },
  {
   "cell_type": "code",
   "execution_count": 28,
   "id": "f2d13e87",
   "metadata": {},
   "outputs": [
    {
     "data": {
      "text/plain": [
       "(array([-0.85882857]), array([-0.79671155]))"
      ]
     },
     "execution_count": 28,
     "metadata": {},
     "output_type": "execute_result"
    }
   ],
   "source": [
    "# Printing out the first & last value, another sense check.\n",
    "x_train[0][0], x_train[0][-1]\n",
    "\n"
   ]
  },
  {
   "cell_type": "code",
   "execution_count": 29,
   "id": "a61f6e80",
   "metadata": {},
   "outputs": [
    {
     "data": {
      "text/plain": [
       "(value   -0.858829\n",
       " Name: 2014-04-01 00:00:00, dtype: float64,\n",
       " value   -0.796712\n",
       " Name: 2014-04-01 23:55:00, dtype: float64)"
      ]
     },
     "execution_count": 29,
     "metadata": {},
     "output_type": "execute_result"
    }
   ],
   "source": [
    "# Using pandas iloc to verify that the window 'works'\n",
    "df_train_vals.iloc[0], df_train_vals.iloc[window_size-1]"
   ]
  },
  {
   "cell_type": "code",
   "execution_count": 30,
   "id": "d317c7bb",
   "metadata": {},
   "outputs": [
    {
     "data": {
      "text/plain": [
       "(3745, 288, 1)"
      ]
     },
     "execution_count": 30,
     "metadata": {},
     "output_type": "execute_result"
    }
   ],
   "source": [
    "# Getting the shape\n",
    "x_train.shape"
   ]
  },
  {
   "cell_type": "code",
   "execution_count": 31,
   "id": "bed87189",
   "metadata": {},
   "outputs": [
    {
     "data": {
      "text/plain": [
       "array([-0.85882857, -0.72899302, -0.84814772, ..., -0.83364049,\n",
       "       -0.73510213, -0.8460886 ])"
      ]
     },
     "execution_count": 31,
     "metadata": {},
     "output_type": "execute_result"
    }
   ],
   "source": [
    "#Printing out just the 'value' column from data frame. Remove \".values\" to see full table\n",
    "df_train_vals['value'].values"
   ]
  },
  {
   "cell_type": "code",
   "execution_count": 32,
   "id": "087234c0",
   "metadata": {},
   "outputs": [
    {
     "data": {
      "text/plain": [
       "array([-0.85882857, -0.72899302, -0.84814772, -0.72958579, -0.731173  ,\n",
       "       -0.75730984, -0.77645641, -0.7880838 , -0.747012  , -0.829166  ,\n",
       "       -0.80377285, -0.7821597 , -0.81182078, -0.80949918, -0.82334701,\n",
       "       -0.79001779, -0.74922405, -0.84169024, -0.73727717, -0.77223023,\n",
       "       -0.75311352, -0.79116337, -0.75934728, -0.86809294, -0.75381057,\n",
       "       -0.86468256, -0.74361965, -0.72908121, -0.82850668, -0.84043795,\n",
       "       -0.76136364, -0.8343536 , -0.74708881, -0.85574949, -0.85245676,\n",
       "       -0.73090636, -0.77440264, -0.74974936, -0.82419543, -0.77402585,\n",
       "       -0.78574242, -0.7844733 , -0.77316412, -0.78843253, -0.80927467,\n",
       "       -0.83109167, -0.76090519, -0.83816509, -0.77176485, -0.83715923,\n",
       "       -0.78131343, -0.76396862, -0.83924191, -0.86186112, -0.85174179,\n",
       "       -0.78406773, -0.74938477, -0.86399047, -0.76581026, -0.82177506,\n",
       "       -0.80222751, -0.73807119, -0.82310669, -0.80410682, -0.86845167,\n",
       "       -0.85877599, -0.83356075, -0.86643297, -0.78045221, -0.8096542 ,\n",
       "       -0.79230956, -0.84551986, -0.82824105, -0.77582935, -0.73287933,\n",
       "       -0.86321832, -0.74355256, -0.7882157 , -0.79006227, -0.79912888,\n",
       "       -0.86051472, -0.85759665, -0.78479216, -0.82182635, -0.73972257,\n",
       "       -0.81247611, -0.84998837, -0.76857869, -0.82860841, -0.79553994,\n",
       "       -0.77098436, -0.74214503, -0.75754161, -0.77404332, -0.77357716,\n",
       "       -0.73564002, -0.82825643, -0.8702425 , -0.83165699, -0.83935909,\n",
       "       -0.77611284, -0.78011937, -0.78585361, -0.86808681, -0.76657575,\n",
       "       -0.82430925, -0.7756539 , -0.79110813,  0.83423034,  0.73340436,\n",
       "        0.71395293,  1.07098925,  1.11307181,  0.98296271,  0.71831972,\n",
       "        0.86295228,  1.02130195,  1.04594803,  0.72548104,  0.66823317,\n",
       "        1.36958529,  1.17305538,  1.11661005,  0.98307138,  1.27459976,\n",
       "        1.44642694,  1.50528567,  1.28866513,  1.26031743,  1.02295817,\n",
       "        1.27933882,  1.18598059,  1.3813925 ,  1.25767699,  1.1736019 ,\n",
       "        1.09127902,  1.21586925,  1.09223039,  1.13768838,  1.59675342,\n",
       "        1.28904484,  1.33876025,  1.53233922,  1.60141677,  1.38146244,\n",
       "        1.51223576,  1.23588256,  1.22381772,  1.2790048 ,  1.43257027,\n",
       "        1.43808241,  1.22922231,  1.12561563,  1.40974009,  1.12283575,\n",
       "        1.37905941,  1.44731563,  1.45141157,  1.48152744,  1.54954504,\n",
       "        1.33709539,  1.46829683,  1.4050141 ,  1.15859057,  1.06689361,\n",
       "        1.21436719,  1.30466379,  1.40383661,  1.53708371,  1.16457702,\n",
       "        1.12429225,  1.60177134,  1.11431721,  1.32540935,  1.38642273,\n",
       "        1.36124227,  1.10177385,  1.08524575,  1.1128578 ,  1.38643638,\n",
       "        1.36304532,  1.18604649,  1.41628631,  1.52016681,  1.07654239,\n",
       "        1.33670957,  1.44565443,  1.19662931,  1.22823281,  1.40253218,\n",
       "        1.56454005,  1.51438674,  1.38516952,  1.46899077,  1.26076513,\n",
       "        1.41812743,  1.31852542,  1.16110478,  1.45275926,  1.36997393,\n",
       "        1.25723151,  1.57220199,  1.06479764,  1.23281399,  1.08528647,\n",
       "        1.48968441,  1.45297419,  1.24169607,  1.43790453,  1.2785004 ,\n",
       "        1.48382995,  1.31169265,  1.28781332,  1.58553613,  1.19583776,\n",
       "        1.12151008, -0.35250349, -0.26479567, -0.39962031, -0.47160544,\n",
       "       -0.40840388, -0.37042247, -0.44883702, -0.33573617, -0.25831579,\n",
       "       -0.38277522, -0.40488824, -0.39440839, -0.77509723, -0.65253443,\n",
       "       -0.72728022, -0.73167631, -0.6882095 , -0.72293893, -0.69003755,\n",
       "       -0.78366561, -0.6636319 , -0.64340272, -0.68995268, -0.64115899,\n",
       "       -0.83292321, -0.78536741, -0.76722084, -0.77014874, -0.79644794,\n",
       "       -0.80569367, -0.83651316, -0.79786583, -0.83128515, -0.74788262,\n",
       "       -0.82454968, -0.84647101, -0.78825327, -0.78211741, -0.74251058,\n",
       "       -0.7847296 , -0.8178686 , -0.75237369, -0.78998354, -0.85597483,\n",
       "       -0.78632299, -0.73734213, -0.81059211, -0.82490508, -0.84932652,\n",
       "       -0.84818912, -0.80807162, -0.78484064, -0.8582896 , -0.73580158,\n",
       "       -0.76210229, -0.78613203, -0.75164888, -0.85835073, -0.80178754,\n",
       "       -0.77993325, -0.75220135, -0.75863962, -0.83079766, -0.73620985,\n",
       "       -0.85255954, -0.74557822, -0.73192653, -0.84503486, -0.76738913,\n",
       "       -0.86453747, -0.81250829, -0.79671155])"
      ]
     },
     "execution_count": 32,
     "metadata": {},
     "output_type": "execute_result"
    }
   ],
   "source": [
    "# Flatten converts all into a one dimensional array for input\n",
    "x_train[0].flatten()"
   ]
  },
  {
   "cell_type": "code",
   "execution_count": 33,
   "id": "a5612176",
   "metadata": {
    "scrolled": true
   },
   "outputs": [
    {
     "data": {
      "image/png": "[encoded data removed]",
      "text/plain": [
       "<Figure size 1080x432 with 1 Axes>"
      ]
     },
     "metadata": {
      "needs_background": "light"
     },
     "output_type": "display_data"
    }
   ],
   "source": [
    "# \n",
    "window_no = 200\n",
    "\n",
    "# \n",
    "fig, ax = plt.subplots(figsize=(15, 6))\n",
    "\n",
    "# \n",
    "y = df_train_vals['value'].values\n",
    "\n",
    "# \n",
    "ax.plot(np.arange(y.shape[0]), y, label='signal')\n",
    "\n",
    "# The first window.\n",
    "w = x_train[window_no].flatten()\n",
    "\n",
    "# \n",
    "ax.plot(np.arange(w.shape[0]) + window_no, w, label='window')\n",
    "\n",
    "ax.legend();\n",
    "\n"
   ]
  },
  {
   "cell_type": "markdown",
   "id": "4a7196e7",
   "metadata": {},
   "source": [
    "#### Neural Network\n",
    "\n",
    "In machine learning, neural networks use computer science and statistics to replicate the human brain and try to solve common problems in the field of artificial intelligence. \n",
    "\n",
    "They are a key component of deep learning algorithms. Neural networks consist of Node Layers which in turn are made up of - an input layer, one or multiple hidden layers and an output layer.\n",
    "\n",
    "Considered vital tools in computer science and artificial intelligence, they rely on training data to improve over time, similar to our own brains.[5] "
   ]
  },
  {
   "cell_type": "markdown",
   "id": "6e231e6c",
   "metadata": {},
   "source": [
    "![title](img/ANN.png)"
   ]
  },
  {
   "cell_type": "code",
   "execution_count": 34,
   "id": "69ba5770",
   "metadata": {},
   "outputs": [
    {
     "data": {
      "text/plain": [
       "(3745, 288, 1)"
      ]
     },
     "execution_count": 34,
     "metadata": {},
     "output_type": "execute_result"
    }
   ],
   "source": [
    "# x-train shape. 3745 values in 288 windows and one layer\n",
    "x_train.shape\n"
   ]
  },
  {
   "cell_type": "code",
   "execution_count": 35,
   "id": "194f35cd",
   "metadata": {},
   "outputs": [
    {
     "data": {
      "text/plain": [
       "1"
      ]
     },
     "execution_count": 35,
     "metadata": {},
     "output_type": "execute_result"
    }
   ],
   "source": [
    "x_train.shape[2]"
   ]
  },
  {
   "cell_type": "code",
   "execution_count": 36,
   "id": "8f7ec1d7",
   "metadata": {},
   "outputs": [],
   "source": [
    "# Create layers\n",
    "layers = [\n",
    "  #Input with 288 windows(x_train.shape[1]) and one layer (x_train.shape[2])\n",
    "  keras.layers.Input(shape=(x_train.shape[1], x_train.shape[2])),\n",
    "  #\n",
    "  keras.layers.Conv1D(\n",
    "    filters=32, kernel_size=7, padding=\"same\", strides=2, activation=\"relu\"),\n",
    "  # Dropout rate is used to randomly ''drop'' data to avoid 'overfitting' the model. Overfitting being analysis produced that alines too closely to a dataset and therefore fails to predict future observations in a relaible manner.\n",
    "  keras.layers.Dropout(rate=0.2),\n",
    "  #\n",
    "  keras.layers.Conv1D(\n",
    "    filters=16, kernel_size=7, padding=\"same\", strides=2, activation=\"relu\"),\n",
    "  #\n",
    "  keras.layers.Conv1DTranspose(\n",
    "    filters=16, kernel_size=7, padding=\"same\", strides=2, activation=\"relu\"),\n",
    "  #\n",
    "  keras.layers.Dropout(rate=0.2),\n",
    "  #\n",
    "  keras.layers.Conv1DTranspose(\n",
    "    filters=32, kernel_size=7, padding=\"same\", strides=2, activation=\"relu\"),\n",
    "  #\n",
    "  keras.layers.Conv1DTranspose(filters=1, kernel_size=7, padding=\"same\"),\n",
    "]\n",
    "\n"
   ]
  },
  {
   "cell_type": "code",
   "execution_count": 37,
   "id": "43581afd",
   "metadata": {},
   "outputs": [],
   "source": [
    "# Creatin model with layer defined above\n",
    "model = keras.Sequential(layers)\n",
    "\n"
   ]
  },
  {
   "cell_type": "code",
   "execution_count": 38,
   "id": "971a0c5b",
   "metadata": {},
   "outputs": [],
   "source": [
    "# Using Adam optimizer\n",
    "optimizer = keras.optimizers.Adam(learning_rate=0.001)\n",
    "\n"
   ]
  },
  {
   "cell_type": "code",
   "execution_count": 39,
   "id": "d96302a1",
   "metadata": {},
   "outputs": [],
   "source": [
    "# MSE - Mean Squared Error - Computes the mean squared error between labels and predictions\n",
    "model.compile(optimizer=optimizer, loss=\"mse\")\n",
    "\n"
   ]
  },
  {
   "cell_type": "code",
   "execution_count": 40,
   "id": "f5494e81",
   "metadata": {},
   "outputs": [
    {
     "name": "stdout",
     "output_type": "stream",
     "text": [
      "Model: \"sequential\"\n",
      "_________________________________________________________________\n",
      " Layer (type)                Output Shape              Param #   \n",
      "=================================================================\n",
      " conv1d (Conv1D)             (None, 144, 32)           256       \n",
      "                                                                 \n",
      " dropout (Dropout)           (None, 144, 32)           0         \n",
      "                                                                 \n",
      " conv1d_1 (Conv1D)           (None, 72, 16)            3600      \n",
      "                                                                 \n",
      " conv1d_transpose (Conv1DTra  (None, 144, 16)          1808      \n",
      " nspose)                                                         \n",
      "                                                                 \n",
      " dropout_1 (Dropout)         (None, 144, 16)           0         \n",
      "                                                                 \n",
      " conv1d_transpose_1 (Conv1DT  (None, 288, 32)          3616      \n",
      " ranspose)                                                       \n",
      "                                                                 \n",
      " conv1d_transpose_2 (Conv1DT  (None, 288, 1)           225       \n",
      " ranspose)                                                       \n",
      "                                                                 \n",
      "=================================================================\n",
      "Total params: 9,505\n",
      "Trainable params: 9,505\n",
      "Non-trainable params: 0\n",
      "_________________________________________________________________\n"
     ]
    }
   ],
   "source": [
    "model.summary()\n",
    "\n"
   ]
  },
  {
   "cell_type": "code",
   "execution_count": 41,
   "id": "91641330",
   "metadata": {},
   "outputs": [
    {
     "name": "stdout",
     "output_type": "stream",
     "text": [
      "Epoch 1/50\n",
      "27/27 [==============================] - 5s 97ms/step - loss: 0.5219 - val_loss: 0.0901\n",
      "Epoch 2/50\n",
      "27/27 [==============================] - 2s 68ms/step - loss: 0.0775 - val_loss: 0.0411\n",
      "Epoch 3/50\n",
      "27/27 [==============================] - 2s 73ms/step - loss: 0.0573 - val_loss: 0.0354\n",
      "Epoch 4/50\n",
      "27/27 [==============================] - 2s 75ms/step - loss: 0.0502 - val_loss: 0.0312\n",
      "Epoch 5/50\n",
      "27/27 [==============================] - 3s 96ms/step - loss: 0.0454 - val_loss: 0.0289\n",
      "Epoch 6/50\n",
      "27/27 [==============================] - 2s 77ms/step - loss: 0.0413 - val_loss: 0.0268\n",
      "Epoch 7/50\n",
      "27/27 [==============================] - 2s 62ms/step - loss: 0.0378 - val_loss: 0.0246\n",
      "Epoch 8/50\n",
      "27/27 [==============================] - 2s 61ms/step - loss: 0.0345 - val_loss: 0.0228\n",
      "Epoch 9/50\n",
      "27/27 [==============================] - 2s 62ms/step - loss: 0.0314 - val_loss: 0.0212\n",
      "Epoch 10/50\n",
      "27/27 [==============================] - 2s 73ms/step - loss: 0.0289 - val_loss: 0.0197\n",
      "Epoch 11/50\n",
      "27/27 [==============================] - 2s 73ms/step - loss: 0.0268 - val_loss: 0.0192\n",
      "Epoch 12/50\n",
      "27/27 [==============================] - 2s 72ms/step - loss: 0.0248 - val_loss: 0.0178\n",
      "Epoch 13/50\n",
      "27/27 [==============================] - 2s 78ms/step - loss: 0.0234 - val_loss: 0.0176\n",
      "Epoch 14/50\n",
      "27/27 [==============================] - 2s 78ms/step - loss: 0.0220 - val_loss: 0.0168\n",
      "Epoch 15/50\n",
      "27/27 [==============================] - 2s 79ms/step - loss: 0.0207 - val_loss: 0.0169\n",
      "Epoch 16/50\n",
      "27/27 [==============================] - 2s 76ms/step - loss: 0.0197 - val_loss: 0.0161\n",
      "Epoch 17/50\n",
      "27/27 [==============================] - 2s 77ms/step - loss: 0.0187 - val_loss: 0.0152\n",
      "Epoch 18/50\n",
      "27/27 [==============================] - 2s 68ms/step - loss: 0.0179 - val_loss: 0.0162\n",
      "Epoch 19/50\n",
      "27/27 [==============================] - 2s 65ms/step - loss: 0.0171 - val_loss: 0.0152\n",
      "Epoch 20/50\n",
      "27/27 [==============================] - 2s 68ms/step - loss: 0.0165 - val_loss: 0.0139\n",
      "Epoch 21/50\n",
      "27/27 [==============================] - 2s 74ms/step - loss: 0.0159 - val_loss: 0.0137\n",
      "Epoch 22/50\n",
      "27/27 [==============================] - 2s 71ms/step - loss: 0.0153 - val_loss: 0.0127\n",
      "Epoch 23/50\n",
      "27/27 [==============================] - 2s 70ms/step - loss: 0.0148 - val_loss: 0.0138\n",
      "Epoch 24/50\n",
      "27/27 [==============================] - 2s 72ms/step - loss: 0.0143 - val_loss: 0.0117\n",
      "Epoch 25/50\n",
      "27/27 [==============================] - 2s 67ms/step - loss: 0.0138 - val_loss: 0.0109\n",
      "Epoch 26/50\n",
      "27/27 [==============================] - 2s 66ms/step - loss: 0.0133 - val_loss: 0.0113\n",
      "Epoch 27/50\n",
      "27/27 [==============================] - 2s 65ms/step - loss: 0.0129 - val_loss: 0.0113\n",
      "Epoch 28/50\n",
      "27/27 [==============================] - 2s 65ms/step - loss: 0.0124 - val_loss: 0.0116\n",
      "Epoch 29/50\n",
      "27/27 [==============================] - 2s 63ms/step - loss: 0.0120 - val_loss: 0.0104\n",
      "Epoch 30/50\n",
      "27/27 [==============================] - 2s 65ms/step - loss: 0.0116 - val_loss: 0.0102\n",
      "Epoch 31/50\n",
      "27/27 [==============================] - 2s 66ms/step - loss: 0.0112 - val_loss: 0.0096\n",
      "Epoch 32/50\n",
      "27/27 [==============================] - 2s 66ms/step - loss: 0.0108 - val_loss: 0.0096\n",
      "Epoch 33/50\n",
      "27/27 [==============================] - 2s 65ms/step - loss: 0.0105 - val_loss: 0.0091\n",
      "Epoch 34/50\n",
      "27/27 [==============================] - 2s 65ms/step - loss: 0.0102 - val_loss: 0.0088\n",
      "Epoch 35/50\n",
      "27/27 [==============================] - 2s 73ms/step - loss: 0.0099 - val_loss: 0.0083\n",
      "Epoch 36/50\n",
      "27/27 [==============================] - 2s 74ms/step - loss: 0.0096 - val_loss: 0.0087\n",
      "Epoch 37/50\n",
      "27/27 [==============================] - 2s 66ms/step - loss: 0.0093 - val_loss: 0.0087\n",
      "Epoch 38/50\n",
      "27/27 [==============================] - 2s 66ms/step - loss: 0.0091 - val_loss: 0.0079\n",
      "Epoch 39/50\n",
      "27/27 [==============================] - 2s 66ms/step - loss: 0.0088 - val_loss: 0.0081\n",
      "Epoch 40/50\n",
      "27/27 [==============================] - 2s 65ms/step - loss: 0.0086 - val_loss: 0.0074\n",
      "Epoch 41/50\n",
      "27/27 [==============================] - 2s 66ms/step - loss: 0.0084 - val_loss: 0.0072\n",
      "Epoch 42/50\n",
      "27/27 [==============================] - 2s 64ms/step - loss: 0.0082 - val_loss: 0.0073\n",
      "Epoch 43/50\n",
      "27/27 [==============================] - 2s 66ms/step - loss: 0.0081 - val_loss: 0.0069\n",
      "Epoch 44/50\n",
      "27/27 [==============================] - 2s 65ms/step - loss: 0.0079 - val_loss: 0.0063\n",
      "Epoch 45/50\n",
      "27/27 [==============================] - 2s 65ms/step - loss: 0.0077 - val_loss: 0.0068\n",
      "Epoch 46/50\n",
      "27/27 [==============================] - 2s 65ms/step - loss: 0.0076 - val_loss: 0.0063\n",
      "Epoch 47/50\n",
      "27/27 [==============================] - 2s 67ms/step - loss: 0.0074 - val_loss: 0.0064\n",
      "Epoch 48/50\n",
      "27/27 [==============================] - 2s 68ms/step - loss: 0.0073 - val_loss: 0.0063\n",
      "Epoch 49/50\n",
      "27/27 [==============================] - 2s 66ms/step - loss: 0.0072 - val_loss: 0.0062\n",
      "Epoch 50/50\n",
      "27/27 [==============================] - 2s 68ms/step - loss: 0.0070 - val_loss: 0.0060\n"
     ]
    }
   ],
   "source": [
    "# Running the model\n",
    "history = model.fit(\n",
    "    # x_train passed as both input & output. Telling the model that it expected to output the same data\n",
    "    x_train,\n",
    "    x_train,\n",
    "    # The number of times the model will work through the datasets\n",
    "    epochs=50,\n",
    "    # Batch size is the number of training samples used at a time. ie) runs the first 128 then the next 128 etc\n",
    "    batch_size=128,\n",
    "    # Validation split allows a portion of the training data per epoch to be split into a seperate dataset for evaluation. In this case 10%\n",
    "    validation_split=0.1,\n",
    "    # Callbacks are used when performance has decreased on a metric\n",
    "    callbacks=[\n",
    "        keras.callbacks.EarlyStopping(monitor=\"val_loss\", patience=5, mode=\"min\")\n",
    "    ],\n",
    ")\n",
    "\n"
   ]
  },
  {
   "cell_type": "markdown",
   "id": "6dc866e6",
   "metadata": {},
   "source": [
    "## Evaluation"
   ]
  },
  {
   "cell_type": "code",
   "execution_count": 42,
   "id": "1ee80006",
   "metadata": {},
   "outputs": [
    {
     "data": {
      "text/plain": [
       "[0.5219100117683411,\n",
       " 0.07752618193626404,\n",
       " 0.057273171842098236,\n",
       " 0.05021161213517189,\n",
       " 0.045360174030065536,\n",
       " 0.0413229838013649,\n",
       " 0.03775874897837639,\n",
       " 0.03446746617555618,\n",
       " 0.0313829742372036,\n",
       " 0.02887418307363987,\n",
       " 0.026788465678691864,\n",
       " 0.024804692715406418,\n",
       " 0.023384077474474907,\n",
       " 0.02198708802461624,\n",
       " 0.02074967324733734,\n",
       " 0.019676946103572845,\n",
       " 0.018737060949206352,\n",
       " 0.017920875921845436,\n",
       " 0.017114032059907913,\n",
       " 0.01652252860367298,\n",
       " 0.01586623303592205,\n",
       " 0.015301389619708061,\n",
       " 0.01478551235049963,\n",
       " 0.014263411983847618,\n",
       " 0.01375636924058199,\n",
       " 0.013281055726110935,\n",
       " 0.012880409136414528,\n",
       " 0.012365016154944897,\n",
       " 0.01201765239238739,\n",
       " 0.011602585203945637,\n",
       " 0.011228115297853947,\n",
       " 0.010777642950415611,\n",
       " 0.010513493791222572,\n",
       " 0.010196559131145477,\n",
       " 0.009897102601826191,\n",
       " 0.009589009918272495,\n",
       " 0.009285308420658112,\n",
       " 0.009063865058124065,\n",
       " 0.008836548775434494,\n",
       " 0.008613425306975842,\n",
       " 0.00841961894184351,\n",
       " 0.008207867853343487,\n",
       " 0.008056520484387875,\n",
       " 0.007897601462900639,\n",
       " 0.007740500848740339,\n",
       " 0.007596444338560104,\n",
       " 0.00741672795265913,\n",
       " 0.007320122793316841,\n",
       " 0.007186435163021088,\n",
       " 0.007030847016721964]"
      ]
     },
     "execution_count": 42,
     "metadata": {},
     "output_type": "execute_result"
    }
   ],
   "source": [
    "# Training Loss\n",
    "\n",
    "history.history[\"loss\"]"
   ]
  },
  {
   "cell_type": "code",
   "execution_count": 43,
   "id": "2c681911",
   "metadata": {},
   "outputs": [
    {
     "data": {
      "text/plain": [
       "[0.09010373055934906,\n",
       " 0.041107431054115295,\n",
       " 0.03538324311375618,\n",
       " 0.031185496598482132,\n",
       " 0.028923673555254936,\n",
       " 0.026797635480761528,\n",
       " 0.02457011491060257,\n",
       " 0.022808866575360298,\n",
       " 0.021159594878554344,\n",
       " 0.019669674336910248,\n",
       " 0.01922924630343914,\n",
       " 0.017767876386642456,\n",
       " 0.01757485792040825,\n",
       " 0.016759349033236504,\n",
       " 0.016946835443377495,\n",
       " 0.01612541638314724,\n",
       " 0.015225567854940891,\n",
       " 0.01618141122162342,\n",
       " 0.015186748467385769,\n",
       " 0.01388836931437254,\n",
       " 0.013696698471903801,\n",
       " 0.012679868377745152,\n",
       " 0.013756741769611835,\n",
       " 0.011660787276923656,\n",
       " 0.010860561393201351,\n",
       " 0.011297902092337608,\n",
       " 0.011250920593738556,\n",
       " 0.011612432077527046,\n",
       " 0.010382195934653282,\n",
       " 0.010207085870206356,\n",
       " 0.009608137421309948,\n",
       " 0.00963110476732254,\n",
       " 0.009080629795789719,\n",
       " 0.008781756274402142,\n",
       " 0.008342403918504715,\n",
       " 0.008693279698491096,\n",
       " 0.008688322268426418,\n",
       " 0.007865170948207378,\n",
       " 0.00806067232042551,\n",
       " 0.007383174728602171,\n",
       " 0.007210185285657644,\n",
       " 0.007301138713955879,\n",
       " 0.0068607451394200325,\n",
       " 0.00634513096883893,\n",
       " 0.006760372314602137,\n",
       " 0.006313554011285305,\n",
       " 0.006391508970409632,\n",
       " 0.006322176661342382,\n",
       " 0.006171752233058214,\n",
       " 0.005966769065707922]"
      ]
     },
     "execution_count": 43,
     "metadata": {},
     "output_type": "execute_result"
    }
   ],
   "source": [
    "# Validation Loss\n",
    "\n",
    "history.history[\"val_loss\"]"
   ]
  },
  {
   "cell_type": "code",
   "execution_count": 44,
   "id": "4d61401e",
   "metadata": {},
   "outputs": [
    {
     "data": {
      "image/png": "[encoded data removed]",
      "text/plain": [
       "<Figure size 1080x432 with 1 Axes>"
      ]
     },
     "metadata": {
      "needs_background": "light"
     },
     "output_type": "display_data"
    }
   ],
   "source": [
    "# Plotting Training v Vailidation loss\n",
    "\n",
    "fig, ax = plt.subplots(figsize=(15, 6))\n",
    "# \n",
    "ax.plot(history.history[\"loss\"], label=\"Training Loss\")\n",
    "# \n",
    "ax.plot(history.history[\"val_loss\"], label=\"Validation Loss\")\n",
    "# \n",
    "ax.legend();\n"
   ]
  },
  {
   "cell_type": "markdown",
   "id": "51276b75",
   "metadata": {},
   "source": [
    "Training loss is how the overall dataset fit the model created. The validation loss is the sub-set created by the 'Validation_split'. We can see in the above diagram that for the first 2 - 3 epochs, there is a significant difference in the runs. The begin to align more closely in the next 10 runs before becoming merging into the same pattern."
   ]
  },
  {
   "cell_type": "code",
   "execution_count": 45,
   "id": "435208ab",
   "metadata": {},
   "outputs": [
    {
     "name": "stdout",
     "output_type": "stream",
     "text": [
      "118/118 [==============================] - 1s 8ms/step\n"
     ]
    }
   ],
   "source": [
    "# Get train MAE loss. Stands for Mean absolute error, calculated as the difference between the actual and predicted values\n",
    "x_train_pred = model.predict(x_train)\n",
    "\n"
   ]
  },
  {
   "cell_type": "code",
   "execution_count": 46,
   "id": "b353fd66",
   "metadata": {},
   "outputs": [],
   "source": [
    "# The actual calculation. Using numpy absolute value\n",
    "train_mae_loss = np.mean(np.abs(x_train_pred - x_train), axis=1)\n",
    "\n"
   ]
  },
  {
   "cell_type": "code",
   "execution_count": 47,
   "id": "06f8ecd5",
   "metadata": {},
   "outputs": [
    {
     "data": {
      "image/png": "[encoded data removed]",
      "text/plain": [
       "<Figure size 1080x432 with 1 Axes>"
      ]
     },
     "metadata": {
      "needs_background": "light"
     },
     "output_type": "display_data"
    }
   ],
   "source": [
    "# \n",
    "fig, ax = plt.subplots(figsize=(15, 6))\n",
    "# \n",
    "ax.hist(train_mae_loss, bins=50)\n",
    "# \n",
    "ax.set_xlabel(\"Train MAE loss\")\n",
    "#\n",
    "ax.set_ylabel(\"No of samples\");\n",
    "\n"
   ]
  },
  {
   "cell_type": "code",
   "execution_count": 48,
   "id": "a1d883ff",
   "metadata": {},
   "outputs": [
    {
     "data": {
      "text/plain": [
       "0.06636167871674035"
      ]
     },
     "execution_count": 48,
     "metadata": {},
     "output_type": "execute_result"
    }
   ],
   "source": [
    "# Get reconstruction loss threshold. This is the largest MAE difference between the original and predicted datasets.\n",
    "threshold = np.max(train_mae_loss)\n",
    "\n",
    "# Print\n",
    "threshold\n"
   ]
  },
  {
   "cell_type": "code",
   "execution_count": 49,
   "id": "ceb0709b",
   "metadata": {},
   "outputs": [
    {
     "data": {
      "image/png": "[encoded data removed]",
      "text/plain": [
       "<Figure size 720x432 with 1 Axes>"
      ]
     },
     "metadata": {
      "needs_background": "light"
     },
     "output_type": "display_data"
    }
   ],
   "source": [
    "# Plotting the original and model data for the first day.\n",
    "fig, ax = plt.subplots(figsize=(10, 6))\n",
    "\n",
    "# \n",
    "ax.plot(x_train[0], 'r');\n",
    "\n",
    "# \n",
    "ax.plot(x_train_pred[0], 'g');\n",
    "\n",
    "# Both sets follow the same pattern but the original (red) appears to have more outliers"
   ]
  },
  {
   "cell_type": "code",
   "execution_count": 50,
   "id": "3e7c76fb",
   "metadata": {},
   "outputs": [],
   "source": [
    "# Subtracting the training mean from the Daily_Jumpsup DF to carry out the same comparison we did on 'small_noise'\n",
    "\n",
    "df_test_value = (df_daily_jumpsup - train_mean) / train_std"
   ]
  },
  {
   "cell_type": "code",
   "execution_count": 51,
   "id": "b1d16bd1",
   "metadata": {},
   "outputs": [
    {
     "data": {
      "image/png": "[encoded data removed]",
      "text/plain": [
       "<Figure size 1080x432 with 1 Axes>"
      ]
     },
     "metadata": {
      "needs_background": "light"
     },
     "output_type": "display_data"
    }
   ],
   "source": [
    "# \n",
    "fig, ax = plt.subplots(figsize=(15, 6))\n",
    "\n",
    "# \n",
    "df_test_value.plot(legend=False, ax=ax);"
   ]
  },
  {
   "cell_type": "code",
   "execution_count": 52,
   "id": "053cb951",
   "metadata": {},
   "outputs": [
    {
     "data": {
      "text/plain": [
       "(3745, 288, 1)"
      ]
     },
     "execution_count": 52,
     "metadata": {},
     "output_type": "execute_result"
    }
   ],
   "source": [
    "# Create sequences from test values.\n",
    "x_test = windows(df_test_value.values)\n",
    "\n",
    "x_test.shape"
   ]
  },
  {
   "cell_type": "code",
   "execution_count": 53,
   "id": "0da89d7a",
   "metadata": {},
   "outputs": [
    {
     "name": "stdout",
     "output_type": "stream",
     "text": [
      "118/118 [==============================] - 1s 9ms/step\n"
     ]
    }
   ],
   "source": [
    "# Get train MAE loss. Stands for Mean absolute error, calculated as the difference between the actual and predicted values\n",
    "x_test_pred = model.predict(x_test)"
   ]
  },
  {
   "cell_type": "code",
   "execution_count": 54,
   "id": "0e58ff07",
   "metadata": {},
   "outputs": [
    {
     "data": {
      "text/plain": [
       "array([[0.05425763],\n",
       "       [0.05307989],\n",
       "       [0.05568547],\n",
       "       ...,\n",
       "       [0.05707495],\n",
       "       [0.05548533],\n",
       "       [0.05703848]])"
      ]
     },
     "execution_count": 54,
     "metadata": {},
     "output_type": "execute_result"
    }
   ],
   "source": [
    "# Again, the calculation for the above for the test case\n",
    "test_mae_loss = np.mean(np.abs(x_test_pred - x_test), axis=1)\n",
    "\n",
    "test_mae_loss\n",
    "\n"
   ]
  },
  {
   "cell_type": "code",
   "execution_count": 55,
   "id": "64f7aac4",
   "metadata": {},
   "outputs": [
    {
     "data": {
      "text/plain": [
       "array([0.05425763, 0.05307989, 0.05568547, ..., 0.05707495, 0.05548533,\n",
       "       0.05703848])"
      ]
     },
     "execution_count": 55,
     "metadata": {},
     "output_type": "execute_result"
    }
   ],
   "source": [
    "# Reshapes into a row.\n",
    "test_mae_loss = test_mae_loss.reshape((-1))\n",
    "\n",
    "test_mae_loss\n",
    "\n"
   ]
  },
  {
   "cell_type": "code",
   "execution_count": 56,
   "id": "92b71b02",
   "metadata": {},
   "outputs": [
    {
     "data": {
      "image/png": "[encoded data removed]",
      "text/plain": [
       "<Figure size 720x432 with 1 Axes>"
      ]
     },
     "metadata": {
      "needs_background": "light"
     },
     "output_type": "display_data"
    }
   ],
   "source": [
    "# Plotting the test MAE losses on histogram. Anomalies are clearly seen on the right.\n",
    "fig, ax = plt.subplots(figsize=(10, 6))\n",
    "\n",
    "#\n",
    "ax.hist(test_mae_loss, bins=50)\n",
    "\n",
    "# \n",
    "ax.set_xlabel(\"test MAE loss\")\n",
    "\n",
    "# \n",
    "ax.set_ylabel(\"No of samples\");"
   ]
  },
  {
   "cell_type": "code",
   "execution_count": 57,
   "id": "a1c00d03",
   "metadata": {},
   "outputs": [
    {
     "data": {
      "text/plain": [
       "438"
      ]
     },
     "execution_count": 57,
     "metadata": {},
     "output_type": "execute_result"
    }
   ],
   "source": [
    "# Detect all the samples which are anomalies.\n",
    "anomalies = test_mae_loss > threshold\n",
    "\n",
    "# NUmber of anomalies.\n",
    "np.sum(anomalies)\n",
    "\n"
   ]
  },
  {
   "cell_type": "code",
   "execution_count": 58,
   "id": "7b69e39a",
   "metadata": {},
   "outputs": [],
   "source": [
    "# data i is an anomaly if samples [(i - timesteps + 1) to (i)] are anomalies\n",
    "inds = []\n",
    "\n",
    "for i in range(window_size - 1, len(df_test_value) - window_size + 1):\n",
    "    if np.all(anomalies[i - window_size + 1 : i]):\n",
    "        inds.append(i)\n",
    "\n",
    "# Creating list of anomalies"
   ]
  },
  {
   "cell_type": "code",
   "execution_count": 59,
   "id": "24657613",
   "metadata": {},
   "outputs": [],
   "source": [
    "# Creating a dataframe comprising of anomalies\n",
    "df_subset = df_daily_jumpsup.iloc[inds]"
   ]
  },
  {
   "cell_type": "code",
   "execution_count": 60,
   "id": "c3a38337",
   "metadata": {},
   "outputs": [
    {
     "data": {
      "image/png": "[encoded data removed]",
      "text/plain": [
       "<Figure size 1080x432 with 1 Axes>"
      ]
     },
     "metadata": {
      "needs_background": "light"
     },
     "output_type": "display_data"
    }
   ],
   "source": [
    "#\n",
    "fig, ax = plt.subplots(figsize=(15, 6))\n",
    "\n",
    "# Plotting the dataset\n",
    "df_daily_jumpsup.plot(legend=False, ax=ax)\n",
    "\n",
    "# Plotting the anomalies in red\n",
    "df_subset.plot(legend=False, ax=ax, color=\"r\");\n",
    "\n"
   ]
  },
  {
   "cell_type": "markdown",
   "id": "b16a6198",
   "metadata": {},
   "source": [
    "## Conclusion & Improvements"
   ]
  },
  {
   "cell_type": "markdown",
   "id": "f77efbf1",
   "metadata": {},
   "source": [
    "Clunky code examples\n",
    "\n",
    "Rounding. Make any odds?\n",
    "\n",
    "Graphs improvements"
   ]
  },
  {
   "cell_type": "markdown",
   "id": "6f44bcb3",
   "metadata": {},
   "source": [
    "There have been a number of changes made to the original code due to some unnecessary or 'clunky' code. This was somewhat off-putting when orignally looking at the code. An example would be in ''Loading the date''. \n",
    "\n",
    "The Keras code imports the files as below:\n",
    "\n",
    "![title](img/url_orig.png)\n",
    "\n",
    "This can be simplified somewhat to:\n",
    "\n",
    "![title](img/url_new.png)\n",
    "\n",
    "Removing the extra lines makes the code more 'manageable'. "
   ]
  },
  {
   "cell_type": "markdown",
   "id": "fab5a303",
   "metadata": {},
   "source": [
    "The Keras website is difficult to navigate with explanations hard to find.\n",
    "\n",
    "Some of the code is also not suited or unnecessary for Jupyter Notebook. Example \"plt.show()\" is not required to show plots. This adds to the cluttered feel.\n",
    "\n",
    "Also, the visualisation of the date could be improved by using seaborn for plotting."
   ]
  },
  {
   "cell_type": "markdown",
   "id": "c1ef46a2",
   "metadata": {},
   "source": [
    "## References\n",
    "\n",
    "\n",
    "\n",
    "1)  https://keras.io/about/\n",
    "\n",
    "2)  https://www.simplilearn.com/tutorials/deep-learning-tutorial/what-is-keras\n",
    "\n",
    "3)  https://towardsai.net/p/l/what-is-tensorflow-and-how-does-it-work\n",
    "\n",
    "4)  https://www.toptal.com/machine-learning/tensorflow-machine-learning-tutorial\n",
    "\n",
    "5)  https://www.ibm.com/topics/neural-networks\n",
    "\n",
    "6)  https://avinetworks.com/glossary/anomaly-detection/\n",
    "\n",
    "7)  https://www.techtarget.com/searchdatamanagement/definition/data-preprocessing\n",
    "\n",
    "8)  https://github.com/ianmcloughlin/2223-S1-machine-learn-stats/blob/main/notebooks/05-evaluation.ipynb\n",
    "\n",
    "9)  https://keras.io/examples/timeseries/timeseries_anomaly_detection/\n",
    "\n",
    "10) https://keras.io/api/models/model_training_apis/"
   ]
  },
  {
   "cell_type": "code",
   "execution_count": null,
   "id": "00f96e4b",
   "metadata": {},
   "outputs": [],
   "source": []
  }
 ],
 "metadata": {
  "kernelspec": {
   "display_name": "Python 3 (ipykernel)",
   "language": "python",
   "name": "python3"
  },
  "language_info": {
   "codemirror_mode": {
    "name": "ipython",
    "version": 3
   },
   "file_extension": ".py",
   "mimetype": "text/x-python",
   "name": "python",
   "nbconvert_exporter": "python",
   "pygments_lexer": "ipython3",
   "version": "3.9.12"
  }
 },
 "nbformat": 4,
 "nbformat_minor": 5
}
